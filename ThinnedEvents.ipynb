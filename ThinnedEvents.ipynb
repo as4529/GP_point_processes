{
 "cells": [
  {
   "cell_type": "code",
   "execution_count": 3,
   "metadata": {},
   "outputs": [],
   "source": [
    "import numpy as np\n",
    "import GPy\n",
    "import seaborn as sns\n",
    "import math\n",
    "import matplotlib.pyplot as plt\n",
    "import edward as ed\n",
    "import tensorflow as tf\n",
    "from edward.models import MultivariateNormalFullCovariance, Normal\n",
    "from scipy.stats import bernoulli\n",
    "from tqdm import tqdm"
   ]
  },
  {
   "cell_type": "markdown",
   "metadata": {},
   "source": [
    "## Simulate data using Intensity function\n",
    "\n",
    "> $$ \\lambda_1(s) = 2 \\exp\\{-s/15\\} + \\exp\\{-((s-25)/10)^2\\}$$\n",
    "> $$ \\lambda_2(s) = 5 \\sin(s^2) + 6$$"
   ]
  },
  {
   "cell_type": "code",
   "execution_count": 4,
   "metadata": {},
   "outputs": [],
   "source": [
    "def build_toy_dataset1():\n",
    "    rate = 2\n",
    "    measure = 50\n",
    "    N = np.random.poisson(measure * rate)\n",
    "    S = np.expand_dims(np.sort(np.linspace(0, measure, N)), axis = 1)\n",
    "    Z = 2*np.exp(-S/15) + np.exp(-((S-25)/10)**2)\n",
    "    print(N)\n",
    "    return S, Z, N, rate, measure\n",
    "\n",
    "def build_toy_dataset2():\n",
    "    rate = 12\n",
    "    measure = 5\n",
    "    N = np.random.poisson(measure * rate)\n",
    "    S = np.expand_dims(np.sort(np.linspace(0, measure, N)), axis = 1)\n",
    "    Z = 5 * np.sin(S**2) + 6\n",
    "    print(N)\n",
    "    return S, Z, N, rate, measure\n"
   ]
  },
  {
   "cell_type": "markdown",
   "metadata": {},
   "source": [
    "## Generate and plot data"
   ]
  },
  {
   "cell_type": "code",
   "execution_count": 15,
   "metadata": {},
   "outputs": [
    {
     "name": "stdout",
     "output_type": "stream",
     "text": [
      "61\n"
     ]
    },
    {
     "data": {
      "image/png": "[encoded data removed]",
      "text/plain": [
       "<matplotlib.figure.Figure at 0x7faa66045b50>"
      ]
     },
     "metadata": {},
     "output_type": "display_data"
    }
   ],
   "source": [
    "k = GPy.kern.PeriodicExponential(input_dim=1, period=5, variance=2)\n",
    "S, Z, N, rate, measure = build_toy_dataset2()\n",
    "plt.scatter(S, Z)\n",
    "plt.show()"
   ]
  },
  {
   "cell_type": "markdown",
   "metadata": {},
   "source": [
    "## Thinning events to keep data points consistent with the intensity function"
   ]
  },
  {
   "cell_type": "code",
   "execution_count": 16,
   "metadata": {},
   "outputs": [
    {
     "data": {
      "image/png": "[encoded data removed]",
      "text/plain": [
       "<matplotlib.figure.Figure at 0x7faa66045490>"
      ]
     },
     "metadata": {},
     "output_type": "display_data"
    },
    {
     "name": "stdout",
     "output_type": "stream",
     "text": [
      "(61, 30)\n"
     ]
    },
    {
     "data": {
      "image/png": "[encoded data removed]",
      "text/plain": [
       "<matplotlib.figure.Figure at 0x7faa477ee550>"
      ]
     },
     "metadata": {},
     "output_type": "display_data"
    }
   ],
   "source": [
    "R = np.random.uniform(0, 1, N)\n",
    "V = (Z / rate).flatten()\n",
    "G = np.random.multivariate_normal(np.zeros((S.shape[0])), k.K(S, S))\n",
    "accept = np.where(R < (1 / (1 + np.exp(-G))))\n",
    "S_k  = np.take(S, accept, axis=0).reshape(-1,1)\n",
    "Z_k  = np.take(Z, accept, axis=0).reshape(-1)\n",
    "#G_k = np.log(Z_k / (rate - Z_k)).reshape(-1)\n",
    "G_k = np.take(G, accept, axis=0).reshape(-1)#random.multivariate_normal(np.zeros((S_k.shape[0])), k.K(S_k,S_k))\n",
    "#X = k.K(S_k, S_k)\n",
    "plt.scatter(S_k, Z_k)\n",
    "plt.show()\n",
    "K = S_k.shape[0]\n",
    "print(N,K)\n",
    "plt.ylim((0,10))\n",
    "plt.scatter(S_k, rate/(1+np.exp(-G_k)))\n",
    "plt.show()"
   ]
  },
  {
   "cell_type": "code",
   "execution_count": 7,
   "metadata": {},
   "outputs": [
    {
     "name": "stdout",
     "output_type": "stream",
     "text": [
      "21.5618610159\n",
      "[[ 31.20960159]]\n"
     ]
    }
   ],
   "source": [
    "#prior_loss = 0.5 * np.matmul(np.expand_dims(G_k, axis=0), np.matmul(np.linalg.inv(X + 1e-6*np.eye(K)), np.expand_dims(G_k, axis=1)))\n",
    "prior_loss = 0.5 * np.matmul(np.expand_dims(G_k, axis=0), np.expand_dims(G_k, axis=1))\n",
    "like_loss = np.sum(np.log(np.ones(K) + np.exp(-G_k)))\n",
    "print(like_loss)\n",
    "#likelihood_loss = tf.reduce_sum(tf.log(tf.ones([K]) + tf.exp(-tf.slice(F, [0], [K]))))\n",
    "#likelihood_loss += tf.reduce_sum(tf.log(tf.ones([M]) + tf.exp(tf.slice(F, [K], [M]))))    \n",
    "loss = prior_loss + like_loss\n",
    "print(loss)"
   ]
  },
  {
   "cell_type": "markdown",
   "metadata": {},
   "source": [
    "### Conditional for Gaussian process"
   ]
  },
  {
   "cell_type": "code",
   "execution_count": 8,
   "metadata": {},
   "outputs": [],
   "source": [
    "def conditional(x_new, x, y, k):\n",
    "\n",
    "    B = k.K(x_new, x)\n",
    "    C = k.K(x,x)\n",
    "    A = k.K(x_new, x_new)\n",
    "    N = len(C)\n",
    "    mu = B.dot(np.linalg.inv(C + 1e-6*np.eye(N))).dot(y)\n",
    "    sigma = A - B.dot(np.linalg.inv(C + 1e-6*np.eye(N)).dot(B.T))\n",
    "    return(mu.squeeze(), sigma.squeeze())"
   ]
  },
  {
   "cell_type": "code",
   "execution_count": null,
   "metadata": {},
   "outputs": [],
   "source": [
    "def log_posterior(x, cov, K, M):\n",
    "    \n",
    "    N = tf.shape(x)[0]\n",
    "    cov_inv = tf.matrix_inverse(cov + 1e-6*tf.eye([N]))\n",
    "    xA = tf.matmul(tf.tranpose(x), cov_inv)\n",
    "    xAx = tf.matmul(xA, x)\n",
    "    sig_sk = 1.0 / (tf.ones([K]) + tf.exp(-tf.slice(x, [0], [K])))\n",
    "    sig_sm = 1.0 / (tf.ones([M]) + tf.exp(tf.slice(x, [K], [M])))\n",
    "    return "
   ]
  },
  {
   "cell_type": "code",
   "execution_count": 9,
   "metadata": {},
   "outputs": [],
   "source": [
    "def update(x_K, y_K, x_M, y_M):\n",
    "   \n",
    "    bern_p = 0.5\n",
    "    K = len(x_K)\n",
    "    \n",
    "    ### Sampling number of thinned events\n",
    "    for i in range(10):\n",
    "        b = bernoulli.rvs(bern_p, size=1)     # Sample from a bernoulli\n",
    "        M = len(x_M)\n",
    "        if b==1:\n",
    "            x_new = np.random.uniform(low=0.0, high = measure, size=(1,1))   # Sample uniformly from the region\n",
    "            \n",
    "            mu_new, sigma_new = conditional(x_new, np.concatenate((x_K,x_M), axis=0), np.concatenate((y_K, y_M), axis=0), k)\n",
    "            y_new = np.random.normal(loc=mu_new, scale=np.sqrt(sigma_new))\n",
    "            \n",
    "            ## Calculate insertion ratio\n",
    "            ratio = np.log(rate * measure)\n",
    "            ratio -= np.log(M + 1)\n",
    "            ratio -= np.log(1 + np.exp(y_new))\n",
    "            a = np.random.uniform(0, 1)\n",
    "            \n",
    "            if np.log(a) < ratio:\n",
    "                x_M = np.concatenate((x_M, x_new), axis=0)\n",
    "                y_M = np.concatenate((y_M, np.expand_dims(y_new, axis=1)))\n",
    "        \n",
    "        \n",
    "        elif M>0:\n",
    "            c = np.random.choice(M, 1)[0]    # Uniformly choose an event to delete\n",
    "            \n",
    "            ## Calculate deletion ratio\n",
    "            ratio = np.log(M)\n",
    "            ratio += np.log(1 + np.exp(y_M[c]))\n",
    "            ratio -= np.log(rate * measure)\n",
    "            a = np.random.uniform(0, 1)\n",
    "            \n",
    "            if np.log(a) < ratio:\n",
    "                x_M = np.delete(x_M, c, 0)\n",
    "                y_M = np.delete(y_M, c)\n",
    "\n",
    "\n",
    "    ## Sampling the location of thinned events\n",
    "\n",
    "    for i in range(len(x_M)):   # Use enumerate\n",
    "\n",
    "        x_new = np.random.normal(loc=x_M[i], scale=np.sqrt(1.0*measure/100.0), size=(1,1))#np.random.uniform(low=0.0, high=measure, size=(1,1))    # Sample a new data point\n",
    "        mu_new, sigma_new = conditional(x_new, np.concatenate((x_K,np.delete(x_M,i,axis=0)), axis=0), np.concatenate((y_K, np.delete(y_M,i,axis=0)), axis=0), k)\n",
    "        y_new = np.random.normal(loc=mu_new, scale=np.sqrt(sigma_new))\n",
    "        \n",
    "        # Calculate the acceptance ratio\n",
    "        ratio = np.log(1 + np.exp(y_M[i]))\n",
    "        ratio -= np.log(1 + np.exp(y_new))\n",
    "\n",
    "        a = np.random.uniform(0, 1)\n",
    "        if np.log(a) < ratio:\n",
    "            x_M[i] = x_new\n",
    "            y_M[i] = y_new\n",
    "            \n",
    "    \n",
    "    S = np.concatenate((x_K, x_M), axis=0)\n",
    "    G = np.concatenate((y_K, y_M), axis=0)\n",
    "    N = S.shape[0]       # Number of data points K+M\n",
    "    D = S.shape[1]       # Dimension of the space\n",
    "    M = len(x_M)\n",
    "    C = k.K(S,S).astype(np.float32)\n",
    "    #chol = np.linalg.cholesky(np.linalg.inv(C + 1e-6 * np.eye(N)))\n",
    "    #G = np.matmul(chol, G)\n",
    "    ## Learn function values via gradient optimization\n",
    "    X = tf.constant(C)\n",
    "    F = tf.Variable(G, name=\"FunctionVal\", dtype=tf.float32)\n",
    "    prior_loss = 0.5 * tf.matmul(tf.expand_dims(F, axis=0), tf.matmul(tf.matrix_inverse(X + 1e-6*tf.eye(N)), tf.expand_dims(F, axis=1)))\n",
    "    #prior_loss = 0.5 * tf.matmul(tf.expand_dims(F, axis=0), tf.expand_dims(F, axis=1))\n",
    "    prior_loss = tf.squeeze(prior_loss)\n",
    "    likelihood_loss = tf.reduce_sum(tf.log(tf.ones([K]) + tf.exp(-tf.slice(F, [0], [K]))))\n",
    "    likelihood_loss += tf.reduce_sum(tf.log(tf.ones([M]) + tf.exp(tf.slice(F, [K], [M]))))    \n",
    "    loss = prior_loss + likelihood_loss\n",
    "    train_op = tf.train.AdadeltaOptimizer(0.01,0.95,1e-5).minimize(loss)\n",
    "    init_OP = tf.global_variables_initializer()\n",
    "    max_it = 500\n",
    "    with tf.Session() as sess:\n",
    "        sess.run(init_OP)\n",
    "        for i in range(max_it):\n",
    "            err, _ = sess.run([loss, train_op])\n",
    "        val = sess.run(F)\n",
    "    print(err)\n",
    "    y_K, y_M = val[:K], val[K:]\n",
    "    return x_K, y_K, x_M, y_M, val, err"
   ]
  },
  {
   "cell_type": "code",
   "execution_count": 17,
   "metadata": {},
   "outputs": [
    {
     "name": "stdout",
     "output_type": "stream",
     "text": [
      "29.7255\n",
      "(6, 1)\n",
      "27.7083\n",
      "(7, 1)\n",
      "38.9272\n",
      "(13, 1)\n",
      "-154.166\n",
      "(18, 1)\n",
      "-383.631\n",
      "(18, 1)\n",
      "-357.302\n",
      "(23, 1)\n",
      "8.27366\n",
      "(22, 1)\n",
      "-12.1061\n",
      "(27, 1)\n",
      "-84.2622\n",
      "(29, 1)\n",
      "-77.7034\n",
      "(32, 1)\n",
      "-140.39\n",
      "(33, 1)\n",
      "32.6488\n",
      "(31, 1)\n",
      "20.2954\n",
      "(28, 1)\n",
      "36.7948\n",
      "(29, 1)\n",
      "-1106.88\n",
      "(30, 1)\n",
      "-42.3894\n",
      "(31, 1)\n",
      "-149.803\n",
      "(29, 1)\n",
      "-155.109\n",
      "(27, 1)\n",
      "54.7661\n",
      "(32, 1)\n",
      "-147.013\n",
      "(28, 1)\n",
      "52.675\n",
      "(24, 1)\n",
      "20.3792\n",
      "(21, 1)\n",
      "-813.525\n",
      "(18, 1)\n",
      "-327.525\n",
      "(16, 1)\n",
      "-1.51027\n",
      "(21, 1)\n",
      "-191.038\n",
      "(23, 1)\n",
      "6.76532\n",
      "(24, 1)\n",
      "50.9903\n",
      "(25, 1)\n",
      "7.46023\n",
      "(26, 1)\n",
      "-103.725\n",
      "(29, 1)\n"
     ]
    },
    {
     "data": {
      "image/png": "[encoded data removed]",
      "text/plain": [
       "<matplotlib.figure.Figure at 0x7faa47761850>"
      ]
     },
     "metadata": {},
     "output_type": "display_data"
    }
   ],
   "source": [
    "n_iter = 30\n",
    "x_K, y_K = S_k, G_k\n",
    "x_M, y_M = np.empty((0,1)), np.empty((0))\n",
    "errors = []     # List to maintain loss value at each iteration\n",
    "for n in range(n_iter):\n",
    "    \n",
    "    x_K, y_K, x_M, y_M, val, err = update(x_K, y_K, x_M, y_M)\n",
    "    print(x_M.shape)\n",
    "    errors.append(err)\n",
    "\n",
    "S = np.concatenate((x_K,x_M), axis=0)\n",
    "plt.plot(np.arange(n_iter), errors)\n",
    "#plt.scatter(S, rate / (1 + np.exp(-val)))\n",
    "plt.show()"
   ]
  },
  {
   "cell_type": "code",
   "execution_count": 18,
   "metadata": {},
   "outputs": [
    {
     "name": "stdout",
     "output_type": "stream",
     "text": [
      "((59, 1), (61, 1))\n"
     ]
    },
    {
     "data": {
      "image/png": "[encoded data removed]",
      "text/plain": [
       "<matplotlib.figure.Figure at 0x7faa45e7bdd0>"
      ]
     },
     "metadata": {},
     "output_type": "display_data"
    },
    {
     "data": {
      "image/png": "[encoded data removed]",
      "text/plain": [
       "<matplotlib.figure.Figure at 0x7faa4796bdd0>"
      ]
     },
     "metadata": {},
     "output_type": "display_data"
    }
   ],
   "source": [
    "print(S.shape, Z.shape)\n",
    "                     \n",
    "plt.xlim((0,5))\n",
    "plt.scatter(S_k, Z_k)\n",
    "plt.show()\n",
    "plt.ylim((0,10))\n",
    "plt.xlim((0,5))\n",
    "plt.scatter(S, rate / (1 + np.exp(-val)))\n",
    "plt.show()"
   ]
  },
  {
   "cell_type": "markdown",
   "metadata": {},
   "source": [
    "# End of Relevant Code\n",
    "\n",
    "\n",
    "# Junk Code below this cell. Please do not read."
   ]
  },
  {
   "cell_type": "code",
   "execution_count": null,
   "metadata": {},
   "outputs": [],
   "source": [
    "S = np.concatenate((x_K,x_M), axis=0)\n",
    "print(x_K.shape, val.shape)\n",
    "plt.scatter(x_K, rate / (1 + np.exp(-val[:K])))\n",
    "plt.show()\n",
    "print(k.K(S, S))\n",
    "print(C)\n",
    "print(rate, measure)"
   ]
  },
  {
   "cell_type": "code",
   "execution_count": null,
   "metadata": {},
   "outputs": [],
   "source": [
    "print(len(x_K), len(x_M))"
   ]
  },
  {
   "cell_type": "code",
   "execution_count": null,
   "metadata": {},
   "outputs": [],
   "source": [
    "\n",
    "K = len(x_K)\n",
    "M = len(x_M)\n",
    "print(N)\n",
    "print(K,M)\n",
    "plt.scatter(S, G)\n",
    "plt.show()"
   ]
  },
  {
   "cell_type": "code",
   "execution_count": null,
   "metadata": {},
   "outputs": [],
   "source": [
    "X = tf.constant(C)\n",
    "F = tf.Variable(G, name=\"FunctionVal\", dtype=tf.float32)\n",
    "\n",
    "prior_loss = 0.5*tf.matmul(tf.expand_dims(F, axis=0), tf.matmul(tf.matrix_inverse(X + 1e-6*tf.eye(N)), tf.expand_dims(F, axis=1)))\n",
    "prior_loss = tf.squeeze(prior_loss)"
   ]
  },
  {
   "cell_type": "code",
   "execution_count": null,
   "metadata": {},
   "outputs": [],
   "source": [
    "#tf.ones(shape=[K])\n",
    "#tf.slice(F, [0], [K])\n",
    "likelihood_loss = tf.reduce_sum(tf.log(tf.ones([K]) + tf.exp(-tf.slice(F, [0], [K]))))\n",
    "likelihood_loss += tf.reduce_sum(tf.log(tf.ones([M]) + tf.exp(tf.slice(F, [K], [M]))))    \n",
    "loss = prior_loss + likelihood_loss\n",
    "train_op = tf.train.AdadeltaOptimizer(0.01, 0.95, 1e-5).minimize(loss)\n",
    "#train_op = tf.train.GradientDescentOptimizer(1e-7).minimize(loss)\n",
    "init_OP = tf.global_variables_initializer()"
   ]
  },
  {
   "cell_type": "code",
   "execution_count": null,
   "metadata": {},
   "outputs": [],
   "source": [
    "with tf.Session() as sess:\n",
    "    sess.run(init_OP)\n",
    "    l = sess.run(loss)\n",
    "    print(l)\n",
    "    for i in range(100):\n",
    "        #print(sess.run(tf.gradients(loss, F)))\n",
    "        sess.run(train_op)\n",
    "        l = sess.run(loss)\n",
    "        print(l)\n",
    "        \n",
    "    val = sess.run(F)\n",
    "    \n",
    "import tqdm"
   ]
  },
  {
   "cell_type": "code",
   "execution_count": null,
   "metadata": {},
   "outputs": [],
   "source": [
    "plt.scatter(S, val)\n",
    "plt.show()"
   ]
  }
 ],
 "metadata": {
  "kernelspec": {
   "display_name": "Python 2",
   "language": "python",
   "name": "python2"
  },
  "language_info": {
   "codemirror_mode": {
    "name": "ipython",
    "version": 2
   },
   "file_extension": ".py",
   "mimetype": "text/x-python",
   "name": "python",
   "nbconvert_exporter": "python",
   "pygments_lexer": "ipython2",
   "version": "2.7.12"
  }
 },
 "nbformat": 4,
 "nbformat_minor": 2
}
