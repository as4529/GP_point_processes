{
 "cells": [
  {
   "cell_type": "code",
   "execution_count": 1,
   "metadata": {},
   "outputs": [],
   "source": [
    "import numpy as np\n",
    "import GPy\n",
    "import seaborn as sns\n",
    "import math\n",
    "import matplotlib.pyplot as plt\n",
    "import edward as ed\n",
    "import tensorflow as tf\n",
    "from edward.models import MultivariateNormalFullCovariance, Normal\n",
    "from scipy.stats import bernoulli\n",
    "from tqdm import tqdm"
   ]
  },
  {
   "cell_type": "markdown",
   "metadata": {},
   "source": [
    "## Simulate data using Intensity function\n",
    "\n",
    "> $$ \\lambda_1(s) = 2 \\exp\\{-s/15\\} + \\exp\\{-((s-25)/10)^2\\}$$\n",
    "> $$ \\lambda_2(s) = 5 \\sin(s^2) + 6$$"
   ]
  },
  {
   "cell_type": "code",
   "execution_count": 66,
   "metadata": {},
   "outputs": [],
   "source": [
    "def build_toy_dataset1():\n",
    "    rate = 2\n",
    "    measure = 50\n",
    "    N = np.random.poisson(measure * rate)\n",
    "    S = np.expand_dims(np.sort(np.linspace(0, measure, N)), axis = 1)\n",
    "    Z = 2*np.exp(-S/15) + np.exp(-((S-25)/10)**2)\n",
    "    print(N)\n",
    "    return S, Z, N, rate, measure\n",
    "\n",
    "def build_toy_dataset2():\n",
    "    rate = 12\n",
    "    measure = 5\n",
    "    N = np.random.poisson(measure * rate)\n",
    "    S = np.expand_dims(np.sort(np.linspace(0, measure, N)), axis = 1)\n",
    "    Z = 5 * np.sin(S**2) + 6\n",
    "    print(N)\n",
    "    return S, Z, N, rate, measure\n"
   ]
  },
  {
   "cell_type": "markdown",
   "metadata": {},
   "source": [
    "## Generate and plot data"
   ]
  },
  {
   "cell_type": "code",
   "execution_count": 107,
   "metadata": {},
   "outputs": [
    {
     "name": "stdout",
     "output_type": "stream",
     "text": [
      "67\n"
     ]
    },
    {
     "data": {
      "image/png": "[encoded data removed]",
      "text/plain": [
       "<matplotlib.figure.Figure at 0x7f2e341e7910>"
      ]
     },
     "metadata": {},
     "output_type": "display_data"
    }
   ],
   "source": [
    "k = GPy.kern.PeriodicExponential(input_dim=1, period=5, variance=3)\n",
    "S, Z, N, rate, measure = build_toy_dataset2()\n",
    "plt.scatter(S, Z)\n",
    "plt.show()"
   ]
  },
  {
   "cell_type": "markdown",
   "metadata": {},
   "source": [
    "## Thinning events to keep data points consistent with the intensity function"
   ]
  },
  {
   "cell_type": "code",
   "execution_count": 108,
   "metadata": {},
   "outputs": [
    {
     "data": {
      "image/png": "[encoded data removed]",
      "text/plain": [
       "<matplotlib.figure.Figure at 0x7f2e277fea10>"
      ]
     },
     "metadata": {},
     "output_type": "display_data"
    },
    {
     "name": "stdout",
     "output_type": "stream",
     "text": [
      "(67, 35)\n"
     ]
    },
    {
     "data": {
      "image/png": "[encoded data removed]",
      "text/plain": [
       "<matplotlib.figure.Figure at 0x7f2e341e7c50>"
      ]
     },
     "metadata": {},
     "output_type": "display_data"
    }
   ],
   "source": [
    "R = np.random.uniform(0, 1, N)\n",
    "V = (Z / rate).flatten()\n",
    "G = np.random.multivariate_normal(np.zeros((S.shape[0])), k.K(S, S))\n",
    "accept = np.where(R < (1 / (1 + np.exp(-G))))\n",
    "S_k  = np.take(S, accept, axis=0).reshape(-1,1)\n",
    "Z_k  = np.take(Z, accept, axis=0).reshape(-1)\n",
    "#G_k = np.log(Z_k / (rate - Z_k)).reshape(-1)\n",
    "G_k = np.take(G, accept, axis=0).reshape(-1)#random.multivariate_normal(np.zeros((S_k.shape[0])), k.K(S_k,S_k))\n",
    "#X = k.K(S_k, S_k)\n",
    "plt.scatter(S_k, Z_k)\n",
    "plt.show()\n",
    "K = S_k.shape[0]\n",
    "print(N,K)\n",
    "plt.ylim((0,10))\n",
    "plt.scatter(S_k, rate/(1+np.exp(-G_k)))\n",
    "plt.show()"
   ]
  },
  {
   "cell_type": "code",
   "execution_count": 70,
   "metadata": {},
   "outputs": [
    {
     "name": "stdout",
     "output_type": "stream",
     "text": [
      "22.4302983229\n",
      "[[ 30.17591298]]\n"
     ]
    }
   ],
   "source": [
    "#prior_loss = 0.5 * np.matmul(np.expand_dims(G_k, axis=0), np.matmul(np.linalg.inv(X + 1e-6*np.eye(K)), np.expand_dims(G_k, axis=1)))\n",
    "prior_loss = 0.5 * np.matmul(np.expand_dims(G_k, axis=0), np.expand_dims(G_k, axis=1))\n",
    "like_loss = np.sum(np.log(np.ones(K) + np.exp(-G_k)))\n",
    "print(like_loss)\n",
    "#likelihood_loss = tf.reduce_sum(tf.log(tf.ones([K]) + tf.exp(-tf.slice(F, [0], [K]))))\n",
    "#likelihood_loss += tf.reduce_sum(tf.log(tf.ones([M]) + tf.exp(tf.slice(F, [K], [M]))))    \n",
    "loss = prior_loss + like_loss\n",
    "print(loss)"
   ]
  },
  {
   "cell_type": "markdown",
   "metadata": {},
   "source": [
    "### Conditional for Gaussian process"
   ]
  },
  {
   "cell_type": "code",
   "execution_count": 71,
   "metadata": {},
   "outputs": [],
   "source": [
    "def conditional(x_new, x, y, k):\n",
    "\n",
    "    B = k.K(x_new, x)\n",
    "    C = k.K(x,x)\n",
    "    A = k.K(x_new, x_new)\n",
    "    N = len(C)\n",
    "    mu = B.dot(np.linalg.inv(C + 1e-6*np.eye(N))).dot(y)\n",
    "    sigma = A - B.dot(np.linalg.inv(C + 1e-6*np.eye(N)).dot(B.T))\n",
    "    return(mu.squeeze(), sigma.squeeze())"
   ]
  },
  {
   "cell_type": "code",
   "execution_count": 72,
   "metadata": {},
   "outputs": [],
   "source": [
    "def update(x_K, y_K, x_M, y_M):\n",
    "   \n",
    "    bern_p = 0.5\n",
    "    K = len(x_K)\n",
    "    \n",
    "    ### Sampling number of thinned events\n",
    "    for i in range(10):\n",
    "        b = bernoulli.rvs(bern_p, size=1)     # Sample from a bernoulli\n",
    "        M = len(x_M)\n",
    "        if b==1:\n",
    "            x_new = np.random.uniform(low=0.0, high = measure, size=(1,1))   # Sample uniformly from the region\n",
    "            \n",
    "            mu_new, sigma_new = conditional(x_new, np.concatenate((x_K,x_M), axis=0), np.concatenate((y_K, y_M), axis=0), k)\n",
    "            y_new = np.random.normal(loc=mu_new, scale=np.sqrt(sigma_new))\n",
    "            \n",
    "            ## Calculate insertion ratio\n",
    "            ratio = np.log(rate * measure)\n",
    "            ratio -= np.log(M + 1)\n",
    "            ratio -= np.log(1 + np.exp(y_new))\n",
    "            a = np.random.uniform(0, 1)\n",
    "            \n",
    "            if np.log(a) < ratio:\n",
    "                x_M = np.concatenate((x_M, x_new), axis=0)\n",
    "                y_M = np.concatenate((y_M, np.expand_dims(y_new, axis=1)))\n",
    "        \n",
    "        \n",
    "        elif M>0:\n",
    "            c = np.random.choice(M, 1)[0]    # Uniformly choose an event to delete\n",
    "            \n",
    "            ## Calculate deletion ratio\n",
    "            ratio = np.log(M)\n",
    "            ratio += np.log(1 + np.exp(y_M[c]))\n",
    "            ratio -= np.log(rate * measure)\n",
    "            a = np.random.uniform(0, 1)\n",
    "            \n",
    "            if np.log(a) < ratio:\n",
    "                x_M = np.delete(x_M, c, 0)\n",
    "                y_M = np.delete(y_M, c)\n",
    "\n",
    "\n",
    "    ## Sampling the location of thinned events\n",
    "\n",
    "    for i in range(len(x_M)):   # Use enumerate\n",
    "\n",
    "        x_new = np.random.normal(loc=x_M[i], scale=np.sqrt(1.0*measure/100.0), size=(1,1))#np.random.uniform(low=0.0, high=measure, size=(1,1))    # Sample a new data point\n",
    "        mu_new, sigma_new = conditional(x_new, np.concatenate((x_K,np.delete(x_M,i,axis=0)), axis=0), np.concatenate((y_K, np.delete(y_M,i,axis=0)), axis=0), k)\n",
    "        y_new = np.random.normal(loc=mu_new, scale=np.sqrt(sigma_new))\n",
    "        \n",
    "        # Calculate the acceptance ratio\n",
    "        ratio = np.log(1 + np.exp(y_M[i]))\n",
    "        ratio -= np.log(1 + np.exp(y_new))\n",
    "\n",
    "        a = np.random.uniform(0, 1)\n",
    "        if np.log(a) < ratio:\n",
    "            x_M[i] = x_new\n",
    "            y_M[i] = y_new\n",
    "            \n",
    "    \n",
    "    S = np.concatenate((x_K, x_M), axis=0)\n",
    "    G = np.concatenate((y_K, y_M), axis=0)\n",
    "    N = S.shape[0]       # Number of data points K+M\n",
    "    D = S.shape[1]       # Dimension of the space\n",
    "    M = len(x_M)\n",
    "    C = k.K(S,S).astype(np.float32)\n",
    "    #chol = np.linalg.cholesky(np.linalg.inv(C + 1e-6 * np.eye(N)))\n",
    "    #G = np.matmul(chol, G)\n",
    "    ## Learn function values via gradient optimization\n",
    "    X = tf.constant(C)\n",
    "    F = tf.Variable(G, name=\"FunctionVal\", dtype=tf.float32)\n",
    "    prior_loss = 0.5 * tf.matmul(tf.expand_dims(F, axis=0), tf.matmul(tf.matrix_inverse(X + 1e-6*tf.eye(N)), tf.expand_dims(F, axis=1)))\n",
    "    #prior_loss = 0.5 * tf.matmul(tf.expand_dims(F, axis=0), tf.expand_dims(F, axis=1))\n",
    "    prior_loss = tf.squeeze(prior_loss)\n",
    "    likelihood_loss = tf.reduce_sum(tf.log(tf.ones([K]) + tf.exp(-tf.slice(F, [0], [K]))))\n",
    "    likelihood_loss += tf.reduce_sum(tf.log(tf.ones([M]) + tf.exp(tf.slice(F, [K], [M]))))    \n",
    "    loss = prior_loss + likelihood_loss\n",
    "    train_op = tf.train.AdadeltaOptimizer(0.01,0.95,1e-5).minimize(loss)\n",
    "    init_OP = tf.global_variables_initializer()\n",
    "    max_it = 500\n",
    "    with tf.Session() as sess:\n",
    "        sess.run(init_OP)\n",
    "        for i in range(max_it):\n",
    "            err, _ = sess.run([loss, train_op])\n",
    "        val = sess.run(F)\n",
    "    print(err)\n",
    "    y_K, y_M = val[:K], val[K:]\n",
    "    return x_K, y_K, x_M, y_M, val, err"
   ]
  },
  {
   "cell_type": "code",
   "execution_count": 109,
   "metadata": {},
   "outputs": [
    {
     "name": "stdout",
     "output_type": "stream",
     "text": [
      "36.2896\n",
      "(4, 1)\n",
      "40.3379\n",
      "(8, 1)\n",
      "34.6025\n",
      "(13, 1)\n",
      "22.2164\n",
      "(14, 1)\n",
      "5.72404\n",
      "(16, 1)\n",
      "57.793\n",
      "(24, 1)\n",
      "-99.0725\n",
      "(21, 1)\n",
      "57.343\n",
      "(24, 1)\n",
      "49.0258\n",
      "(25, 1)\n",
      "-86.6596\n",
      "(27, 1)\n",
      "-307.75\n",
      "(31, 1)\n",
      "-25.2879\n",
      "(32, 1)\n",
      "66.3951\n",
      "(33, 1)\n",
      "-768.871\n",
      "(33, 1)\n",
      "51.3357\n",
      "(32, 1)\n",
      "65.5841\n",
      "(32, 1)\n",
      "-131.319\n",
      "(29, 1)\n",
      "-269.072\n",
      "(31, 1)\n",
      "66.1319\n",
      "(35, 1)\n",
      "-44.3326\n",
      "(36, 1)\n",
      "-4748.98\n",
      "(33, 1)\n",
      "47.2214\n",
      "(36, 1)\n",
      "-2762.64\n",
      "(39, 1)\n",
      "-115.714\n",
      "(37, 1)\n",
      "-293.13\n",
      "(34, 1)\n",
      "-921.301\n",
      "(35, 1)\n",
      "-907.389\n",
      "(33, 1)\n",
      "-82.6691\n",
      "(26, 1)\n",
      "25.6822\n",
      "(26, 1)\n",
      "56.5428\n",
      "(30, 1)\n"
     ]
    },
    {
     "data": {
      "image/png": "[encoded data removed]",
      "text/plain": [
       "<matplotlib.figure.Figure at 0x7f2e27753c10>"
      ]
     },
     "metadata": {},
     "output_type": "display_data"
    }
   ],
   "source": [
    "n_iter = 30\n",
    "x_K, y_K = S_k, G_k\n",
    "x_M, y_M = np.empty((0,1)), np.empty((0))\n",
    "errors = []     # List to maintain loss value at each iteration\n",
    "for n in range(n_iter):\n",
    "    \n",
    "    x_K, y_K, x_M, y_M, val, err = update(x_K, y_K, x_M, y_M)\n",
    "    print(x_M.shape)\n",
    "    errors.append(err)\n",
    "\n",
    "S = np.concatenate((x_K,x_M), axis=0)\n",
    "plt.plot(np.arange(n_iter), errors)\n",
    "#plt.scatter(S, rate / (1 + np.exp(-val)))\n",
    "plt.show()"
   ]
  },
  {
   "cell_type": "code",
   "execution_count": 106,
   "metadata": {},
   "outputs": [
    {
     "name": "stdout",
     "output_type": "stream",
     "text": [
      "((60, 1), (61, 1))\n"
     ]
    },
    {
     "data": {
      "image/png": "[encoded data removed]",
      "text/plain": [
       "<matplotlib.figure.Figure at 0x7f2e32428350>"
      ]
     },
     "metadata": {},
     "output_type": "display_data"
    },
    {
     "data": {
      "image/png": "[encoded data removed]",
      "text/plain": [
       "<matplotlib.figure.Figure at 0x7f2e2c94de50>"
      ]
     },
     "metadata": {},
     "output_type": "display_data"
    }
   ],
   "source": [
    "print(S.shape, Z.shape)\n",
    "                     \n",
    "plt.xlim((0,5))\n",
    "plt.scatter(S_k, Z_k)\n",
    "plt.show()\n",
    "plt.ylim((0,10))\n",
    "plt.xlim((0,5))\n",
    "plt.scatter(S, rate / (1 + np.exp(-val)))\n",
    "plt.show()"
   ]
  },
  {
   "cell_type": "markdown",
   "metadata": {},
   "source": [
    "# End of Relevant Code\n",
    "\n",
    "\n",
    "# Junk Code below this cell. Please do not read."
   ]
  },
  {
   "cell_type": "code",
   "execution_count": null,
   "metadata": {},
   "outputs": [],
   "source": [
    "S = np.concatenate((x_K,x_M), axis=0)\n",
    "print(x_K.shape, val.shape)\n",
    "plt.scatter(x_K, rate / (1 + np.exp(-val[:K])))\n",
    "plt.show()\n",
    "print(k.K(S, S))\n",
    "print(C)\n",
    "print(rate, measure)"
   ]
  },
  {
   "cell_type": "code",
   "execution_count": null,
   "metadata": {},
   "outputs": [],
   "source": [
    "print(len(x_K), len(x_M))"
   ]
  },
  {
   "cell_type": "code",
   "execution_count": null,
   "metadata": {},
   "outputs": [],
   "source": [
    "\n",
    "K = len(x_K)\n",
    "M = len(x_M)\n",
    "print(N)\n",
    "print(K,M)\n",
    "plt.scatter(S, G)\n",
    "plt.show()"
   ]
  },
  {
   "cell_type": "code",
   "execution_count": null,
   "metadata": {},
   "outputs": [],
   "source": [
    "X = tf.constant(C)\n",
    "F = tf.Variable(G, name=\"FunctionVal\", dtype=tf.float32)\n",
    "\n",
    "prior_loss = 0.5*tf.matmul(tf.expand_dims(F, axis=0), tf.matmul(tf.matrix_inverse(X + 1e-6*tf.eye(N)), tf.expand_dims(F, axis=1)))\n",
    "prior_loss = tf.squeeze(prior_loss)"
   ]
  },
  {
   "cell_type": "code",
   "execution_count": null,
   "metadata": {},
   "outputs": [],
   "source": [
    "#tf.ones(shape=[K])\n",
    "#tf.slice(F, [0], [K])\n",
    "likelihood_loss = tf.reduce_sum(tf.log(tf.ones([K]) + tf.exp(-tf.slice(F, [0], [K]))))\n",
    "likelihood_loss += tf.reduce_sum(tf.log(tf.ones([M]) + tf.exp(tf.slice(F, [K], [M]))))    \n",
    "loss = prior_loss + likelihood_loss\n",
    "train_op = tf.train.AdadeltaOptimizer(0.01, 0.95, 1e-5).minimize(loss)\n",
    "#train_op = tf.train.GradientDescentOptimizer(1e-7).minimize(loss)\n",
    "init_OP = tf.global_variables_initializer()"
   ]
  },
  {
   "cell_type": "code",
   "execution_count": null,
   "metadata": {},
   "outputs": [],
   "source": [
    "with tf.Session() as sess:\n",
    "    sess.run(init_OP)\n",
    "    l = sess.run(loss)\n",
    "    print(l)\n",
    "    for i in range(100):\n",
    "        #print(sess.run(tf.gradients(loss, F)))\n",
    "        sess.run(train_op)\n",
    "        l = sess.run(loss)\n",
    "        print(l)\n",
    "        \n",
    "    val = sess.run(F)\n",
    "    \n",
    "import tqdm"
   ]
  },
  {
   "cell_type": "code",
   "execution_count": null,
   "metadata": {},
   "outputs": [],
   "source": [
    "plt.scatter(S, val)\n",
    "plt.show()"
   ]
  }
 ],
 "metadata": {
  "kernelspec": {
   "display_name": "Python 2",
   "language": "python",
   "name": "python2"
  },
  "language_info": {
   "codemirror_mode": {
    "name": "ipython",
    "version": 2
   },
   "file_extension": ".py",
   "mimetype": "text/x-python",
   "name": "python",
   "nbconvert_exporter": "python",
   "pygments_lexer": "ipython2",
   "version": "2.7.12"
  }
 },
 "nbformat": 4,
 "nbformat_minor": 2
}
