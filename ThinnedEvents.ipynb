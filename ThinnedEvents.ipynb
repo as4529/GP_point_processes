{
 "cells": [
  {
   "cell_type": "code",
   "execution_count": 4,
   "metadata": {},
   "outputs": [],
   "source": [
    "import numpy as np\n",
    "import GPy\n",
    "import seaborn as sns\n",
    "import math\n",
    "import matplotlib.pyplot as plt\n",
    "import edward as ed\n",
    "import tensorflow as tf\n",
    "from edward.models import MultivariateNormalFullCovariance, Normal\n",
    "from scipy.stats import bernoulli"
   ]
  },
  {
   "cell_type": "code",
   "execution_count": 35,
   "metadata": {},
   "outputs": [
    {
     "name": "stdout",
     "output_type": "stream",
     "text": [
      "297\n"
     ]
    }
   ],
   "source": [
    "rate = 300\n",
    "\n",
    "N = np.random.poisson(rate)\n",
    "S = np.expand_dims(np.sort(np.linspace(0, 1, N)), axis = 1)\n",
    "print(N)"
   ]
  },
  {
   "cell_type": "code",
   "execution_count": 3,
   "metadata": {
    "scrolled": true
   },
   "outputs": [
    {
     "ename": "NameError",
     "evalue": "name 'N' is not defined",
     "output_type": "error",
     "traceback": [
      "\u001b[0;31m---------------------------------------------------------------------------\u001b[0m",
      "\u001b[0;31mNameError\u001b[0m                                 Traceback (most recent call last)",
      "\u001b[0;32m<ipython-input-3-f0328491556a>\u001b[0m in \u001b[0;36m<module>\u001b[0;34m()\u001b[0m\n\u001b[1;32m      1\u001b[0m \u001b[0mk\u001b[0m \u001b[0;34m=\u001b[0m \u001b[0mGPy\u001b[0m\u001b[0;34m.\u001b[0m\u001b[0mkern\u001b[0m\u001b[0;34m.\u001b[0m\u001b[0mRBF\u001b[0m\u001b[0;34m(\u001b[0m\u001b[0minput_dim\u001b[0m\u001b[0;34m=\u001b[0m\u001b[0;36m1\u001b[0m\u001b[0;34m,\u001b[0m\u001b[0mlengthscale\u001b[0m\u001b[0;34m=\u001b[0m\u001b[0;36m0.1\u001b[0m\u001b[0;34m)\u001b[0m\u001b[0;34m\u001b[0m\u001b[0m\n\u001b[0;32m----> 2\u001b[0;31m \u001b[0mmu\u001b[0m \u001b[0;34m=\u001b[0m \u001b[0mnp\u001b[0m\u001b[0;34m.\u001b[0m\u001b[0mzeros\u001b[0m\u001b[0;34m(\u001b[0m\u001b[0;34m(\u001b[0m\u001b[0mN\u001b[0m\u001b[0;34m)\u001b[0m\u001b[0;34m)\u001b[0m \u001b[0;31m# vector of the means\u001b[0m\u001b[0;34m\u001b[0m\u001b[0m\n\u001b[0m\u001b[1;32m      3\u001b[0m \u001b[0mC\u001b[0m \u001b[0;34m=\u001b[0m \u001b[0mk\u001b[0m\u001b[0;34m.\u001b[0m\u001b[0mK\u001b[0m\u001b[0;34m(\u001b[0m\u001b[0mS\u001b[0m\u001b[0;34m,\u001b[0m \u001b[0mS\u001b[0m\u001b[0;34m)\u001b[0m \u001b[0;31m# covariance matrix\u001b[0m\u001b[0;34m\u001b[0m\u001b[0m\n\u001b[1;32m      4\u001b[0m \u001b[0mZ\u001b[0m \u001b[0;34m=\u001b[0m \u001b[0mnp\u001b[0m\u001b[0;34m.\u001b[0m\u001b[0mrandom\u001b[0m\u001b[0;34m.\u001b[0m\u001b[0mmultivariate_normal\u001b[0m\u001b[0;34m(\u001b[0m\u001b[0mmu\u001b[0m\u001b[0;34m,\u001b[0m\u001b[0mC\u001b[0m\u001b[0;34m)\u001b[0m\u001b[0;34m\u001b[0m\u001b[0m\n\u001b[1;32m      5\u001b[0m \u001b[0mprint\u001b[0m\u001b[0;34m(\u001b[0m\u001b[0mC\u001b[0m\u001b[0;34m)\u001b[0m\u001b[0;34m\u001b[0m\u001b[0m\n",
      "\u001b[0;31mNameError\u001b[0m: name 'N' is not defined"
     ]
    }
   ],
   "source": [
    "k = GPy.kern.RBF(input_dim=1,lengthscale=0.1)\n",
    "mu = np.zeros((N)) # vector of the means\n",
    "C = k.K(S, S) # covariance matrix\n",
    "Z = np.random.multivariate_normal(mu,C)\n",
    "print(C)\n",
    "sampler = Bernoulli(probs=self._sampling_probability)\n",
    "sample_id_sampler = Categorical(logits=outputs)"
   ]
  },
  {
   "cell_type": "code",
   "execution_count": 37,
   "metadata": {},
   "outputs": [
    {
     "data": {
      "image/png": "[encoded data removed]",
      "text/plain": [
       "<matplotlib.figure.Figure at 0x7f4a73a3c828>"
      ]
     },
     "metadata": {},
     "output_type": "display_data"
    }
   ],
   "source": [
    "plt.scatter(S, Z)\n",
    "plt.show()"
   ]
  },
  {
   "cell_type": "code",
   "execution_count": 15,
   "metadata": {},
   "outputs": [
    {
     "name": "stdout",
     "output_type": "stream",
     "text": [
      "110\n"
     ]
    },
    {
     "data": {
      "image/png": "[encoded data removed]",
      "text/plain": [
       "<matplotlib.figure.Figure at 0x7f6300360550>"
      ]
     },
     "metadata": {},
     "output_type": "display_data"
    },
    {
     "data": {
      "image/png": "[encoded data removed]",
      "text/plain": [
       "<matplotlib.figure.Figure at 0x7f62f8537fd0>"
      ]
     },
     "metadata": {},
     "output_type": "display_data"
    },
    {
     "name": "stdout",
     "output_type": "stream",
     "text": [
      "(110, 1)\n",
      "(49, 1)\n"
     ]
    }
   ],
   "source": [
    "def build_toy_dataset1():\n",
    "    rate = 2\n",
    "    measure = 50\n",
    "    N = np.random.poisson(measure * rate)\n",
    "    S = np.expand_dims(np.sort(np.linspace(0, measure, N)), axis = 1)\n",
    "    Z = 2*np.exp(-S/15) + np.exp(-((S-25)/10)**2)\n",
    "    print(N)\n",
    "    return S, Z, N, rate, measure\n",
    "\n",
    "def build_toy_dataset2():\n",
    "    rate = 12\n",
    "    measure = 5\n",
    "    N = np.random.poisson(measure * rate)\n",
    "    S = np.expand_dims(np.sort(np.linspace(0, measure, N)), axis = 1)\n",
    "    Z = 5 * np.sin(S**2) + 6\n",
    "    print(N)\n",
    "    return S, Z, N, rate, measure\n",
    "\n",
    "k = GPy.kern.RBF(input_dim=1,lengthscale=1)\n",
    "S, Z, N, rate, measure = build_toy_dataset1()\n",
    "plt.scatter(S, Z)\n",
    "plt.show()\n",
    "R = np.random.uniform(0, 1, N)\n",
    "V = (Z / rate).flatten()\n",
    "accept = np.where(R < V)\n",
    "S_k  = np.take(S, accept, axis=0).reshape(-1,1)\n",
    "Z_k  = np.take(Z, accept, axis=0).reshape(-1)\n",
    "plt.scatter(S_k, Z_k)\n",
    "plt.show()\n",
    "print(S.shape)\n",
    "print(S_k.shape)"
   ]
  },
  {
   "cell_type": "code",
   "execution_count": 15,
   "metadata": {},
   "outputs": [],
   "source": [
    "def conditional(x_new, x, y, k):\n",
    "\n",
    "    B = k.K(x_new, x)\n",
    "    C = k.K(x,x)\n",
    "    A = k.K(x_new, x_new)\n",
    "    N = len(C)\n",
    "    mu = B.dot(np.linalg.inv(C + 1e-6*np.eye(N))).dot(y)\n",
    "    sigma = A - B.dot(np.linalg.inv(C + 1e-6*np.eye(N)).dot(B.T))\n",
    "    return(mu.squeeze(), sigma.squeeze())"
   ]
  },
  {
   "cell_type": "code",
   "execution_count": 8,
   "metadata": {},
   "outputs": [],
   "source": [
    "def update():\n",
    "    \n",
    "    global x_M, y_M, x_K, y_K\n",
    "    bern_p = 0.5\n",
    "    for i in range(10):\n",
    "        b = bernoulli.rvs(bern_p, size=1)#np.random.binomial(1,bern_p,1)\n",
    "        M = len(x_M)\n",
    "        if b==1:\n",
    "            x_new = np.random.uniform(size=(1,1))\n",
    "            mu_new, sigma_new = conditional(x_new, np.concatenate((x_K,x_M), axis=0), np.concatenate((y_K, y_M), axis=0), k)\n",
    "            y_new = np.random.normal(loc=mu_new, scale=np.sqrt(sigma_new))\n",
    "            ratio = np.log(rate*measure)\n",
    "            ratio -= np.log(M+1)\n",
    "            ratio -= np.log(1+np.exp(y_new))\n",
    "            a = np.random.uniform(0, 1)\n",
    "            if np.log(a) < ratio:\n",
    "                x_M = np.concatenate((x_M, x_new), axis=0)\n",
    "                y_M = np.concatenate((y_M, np.expand_dims(y_new, axis=1)))\n",
    "\n",
    "        elif M>0:\n",
    "            c = np.random.choice(M, 1)[0]\n",
    "            #print(c)\n",
    "            ratio = np.log(M)\n",
    "            ratio += np.log(1 + np.exp(y_M[c]))\n",
    "            ratio -= np.log(rate*measure)\n",
    "            a = np.random.uniform(0, 1)\n",
    "            if np.log(a) < ratio:\n",
    "                #print(\"Done\")\n",
    "                x_M = np.delete(x_M, c, 0)\n",
    "                y_M = np.delete(y_M, c)\n",
    "\n",
    "\n",
    "    ## Sampling the location of thinned events\n",
    "\n",
    "    for i in range(len(x_M)):   # Use enumerate\n",
    "\n",
    "        x_new = np.random.uniform(size=(1,1))\n",
    "        mu_new, sigma_new = conditional(x_new, np.concatenate((x_K,x_M), axis=0), np.concatenate((y_K, y_M), axis=0), k)\n",
    "        y_new = np.random.normal(loc=mu_new, scale=np.sqrt(sigma_new))\n",
    "        ratio = np.log(1 + np.exp(y_M[i]))\n",
    "        ratio -= np.log(1 + np.exp(y_new))\n",
    "\n",
    "        a = np.random.uniform(0, 1)\n",
    "        if np.log(a) < ratio:\n",
    "            x_M[i] = x_new\n",
    "            y_M[i] = y_new\n",
    "            \n",
    "    \n",
    "    S = np.concatenate((x_K, x_M), axis=0)\n",
    "    G = np.concatenate((y_K, y_M), axis=0)\n",
    "    N = S.shape[0]       # Number of data points K+M\n",
    "    D = S.shape[1]       # Dimension of the space\n",
    "    C = k.K(S,S).astype(np.float32)\n",
    "    \n",
    "    X = tf.constant(C)\n",
    "    F = tf.Variable(G, name=\"FunctionVal\", dtype=tf.float32)\n",
    "    prior_loss = 0.5*tf.matmul(tf.expand_dims(F, axis=0), tf.matmul(tf.matrix_inverse(X + 1e-6*tf.eye(N)), tf.expand_dims(F, axis=1)))\n",
    "    prior_loss = tf.squeeze(prior_loss)\n",
    "    likelihood_loss = tf.reduce_sum(tf.log(tf.ones([K]) + tf.exp(-tf.slice(F, [0], [K]))))\n",
    "    likelihood_loss += tf.reduce_sum(tf.log(tf.ones([M]) + tf.exp(tf.slice(F, [K], [M]))))    \n",
    "    loss = prior_loss + likelihood_loss\n",
    "    train_op = tf.train.AdadeltaOptimizer(1., 0.95, 1e-6).minimize(loss)\n",
    "    init_OP = tf.global_variables_initializer()\n",
    "    with tf.Session() as sess:\n",
    "        sess.run(init_OP)\n",
    "        for i in range(50):\n",
    "            sess.run(train_op)\n",
    "            val = sess.run(F)\n",
    "\n",
    "    return x_M, y_M, val"
   ]
  },
  {
   "cell_type": "code",
   "execution_count": 17,
   "metadata": {},
   "outputs": [
    {
     "name": "stdout",
     "output_type": "stream",
     "text": [
      "33.1925\n",
      "39.9803\n",
      "54.0508\n",
      "55.2052\n",
      "75.2621\n",
      "71.2533\n",
      "72.7164\n",
      "80.785\n",
      "77.2141\n",
      "81.0419\n",
      "80.3433\n",
      "82.4303\n",
      "65.1826\n",
      "76.9085\n",
      "68.4334\n",
      "85.4949\n",
      "97.2743\n",
      "-20.1824\n",
      "57.1176\n",
      "76.9783\n",
      "100.715\n",
      "67.7201\n",
      "86.4092\n",
      "65.0857\n",
      "78.2024\n",
      "90.7185\n",
      "81.7441\n",
      "98.579\n",
      "94.5762\n",
      "86.7763\n",
      "86.5566\n",
      "82.3305\n",
      "96.0222\n",
      "116.077\n",
      "117.624\n",
      "101.515\n",
      "91.2069\n",
      "98.8716\n",
      "88.6817\n",
      "104.815\n",
      "92.5669\n",
      "102.568\n",
      "84.1813\n",
      "83.9572\n",
      "86.7473\n",
      "72.5869\n",
      "72.1735\n",
      "68.6296\n",
      "34.9276\n",
      "82.0186\n"
     ]
    },
    {
     "data": {
      "image/png": "[encoded data removed]",
      "text/plain": [
       "<matplotlib.figure.Figure at 0x7f62eff74fd0>"
      ]
     },
     "metadata": {},
     "output_type": "display_data"
    }
   ],
   "source": [
    "def conditional(x_new, x, y, k):\n",
    "\n",
    "    B = k.K(x_new, x)\n",
    "    A = k.K(x_new, x_new)\n",
    "    C = k.K(x,x)\n",
    "    N = len(C)\n",
    "    mu = B.dot(np.linalg.inv(C + 1e-6*np.eye(N))).dot(y)\n",
    "    sigma = A - B.dot(np.linalg.inv(C + 1e-6*np.eye(N)).dot(B.T))\n",
    "\n",
    "    return(mu.squeeze(), sigma.squeeze())\n",
    "\n",
    "bern_p = 0.5\n",
    "n_iter = 50\n",
    "x_K, y_K = S_k, Z_k\n",
    "x_M, y_M = np.empty((0,1)), np.empty((0))\n",
    "#C = k.K(S,S)\n",
    "K = len(x_K)\n",
    "for n in range(n_iter):\n",
    "    \n",
    "    for i in range(10):\n",
    "        b = bernoulli.rvs(bern_p, size=1)#np.random.binomial(1,bern_p,1)\n",
    "        M = len(x_M)\n",
    "        if b==1:\n",
    "            x_new = np.random.uniform(low=0, high=measure, size=(1,1))\n",
    "            mu_new, sigma_new = conditional(x_new, np.concatenate((x_K,x_M), axis=0), np.concatenate((y_K, y_M), axis=0), k)\n",
    "            y_new = np.random.normal(loc=mu_new, scale=np.sqrt(sigma_new))\n",
    "            ratio = np.log(rate * measure)\n",
    "            ratio -= np.log(M+1)\n",
    "            ratio -= np.log(1 + np.exp(y_new))\n",
    "            a = np.random.uniform(0, 1)\n",
    "            if np.log(a) < ratio:\n",
    "                x_M = np.concatenate((x_M, x_new), axis=0)\n",
    "                y_M = np.concatenate((y_M, np.expand_dims(y_new, axis=1)))\n",
    "\n",
    "        elif M>0:\n",
    "            c = np.random.choice(M, 1)[0]\n",
    "            #print(c)\n",
    "            ratio = np.log(M)\n",
    "            ratio += np.log(1 + np.exp(y_M[c]))\n",
    "            ratio -= np.log(rate * measure)\n",
    "            a = np.random.uniform(0, 1)\n",
    "            if np.log(a) < ratio:\n",
    "                #print(\"Done\")\n",
    "                x_M = np.delete(x_M, c, 0)\n",
    "                y_M = np.delete(y_M, c)\n",
    "\n",
    "\n",
    "    ## Sampling the location of thinned events\n",
    "\n",
    "    for i in range(len(x_M)):   # Use enumerate\n",
    "\n",
    "        x_new = np.random.uniform(low=0, high=measure, size=(1,1))\n",
    "        mu_new, sigma_new = conditional(x_new, np.concatenate((x_K,x_M), axis=0), np.concatenate((y_K, y_M), axis=0), k)\n",
    "        y_new = np.random.normal(loc=mu_new, scale=np.sqrt(sigma_new))\n",
    "        ratio = np.log(1 + np.exp(y_M[i]))\n",
    "        ratio -= np.log(1 + np.exp(y_new))\n",
    "\n",
    "        a = np.random.uniform(0, 1)\n",
    "        if np.log(a) < ratio:\n",
    "            x_M[i] = x_new\n",
    "            y_M[i] = y_new\n",
    "            \n",
    "    M = len(x_M)\n",
    "    S = np.concatenate((x_K, x_M), axis=0)\n",
    "    G = np.concatenate((y_K, y_M), axis=0)\n",
    "    N = S.shape[0]       # Number of data points K+M\n",
    "    D = S.shape[1]       # Dimension of the space\n",
    "    C = k.K(S,S).astype(np.float32)\n",
    "    \n",
    "    X = tf.constant(C)\n",
    "    F = tf.Variable(G, name=\"FunctionVal\", dtype=tf.float32)\n",
    "    prior_loss = 0.5*tf.matmul(tf.expand_dims(F, axis=0), tf.matmul(tf.matrix_inverse(X + 1e-6*tf.eye(N)), tf.expand_dims(F, axis=1)))\n",
    "    prior_loss = tf.squeeze(prior_loss)\n",
    "    likelihood_loss = tf.reduce_sum(tf.log(tf.ones([K]) + tf.exp(-tf.slice(F, [0], [K]))))\n",
    "    likelihood_loss += tf.reduce_sum(tf.log(tf.ones([M]) + tf.exp(tf.slice(F, [K], [M]))))    \n",
    "    loss = tf.add(prior_loss, likelihood_loss)\n",
    "    train_op = tf.train.AdadeltaOptimizer(0.1, 0.95, 1e-5).minimize(loss)\n",
    "    init_OP = tf.global_variables_initializer()\n",
    "    with tf.Session() as sess:\n",
    "        sess.run(init_OP)\n",
    "        for i in range(100):\n",
    "            l, _ = sess.run([loss,train_op])\n",
    "            #print(l)\n",
    "            \n",
    "        val = sess.run(F)\n",
    "    print(l)\n",
    "    y_K, y_M = val[:K], val[K:]\n",
    "S = np.concatenate((x_K,x_M), axis=0)\n",
    "plt.scatter(S, rate / (1 + np.exp(-val)))\n",
    "plt.show()"
   ]
  },
  {
   "cell_type": "code",
   "execution_count": 18,
   "metadata": {},
   "outputs": [
    {
     "name": "stdout",
     "output_type": "stream",
     "text": [
      "(49, 1) (79,)\n"
     ]
    },
    {
     "data": {
      "image/png": "[encoded data removed]",
      "text/plain": [
       "<matplotlib.figure.Figure at 0x7f62f58cb5c0>"
      ]
     },
     "metadata": {},
     "output_type": "display_data"
    },
    {
     "name": "stdout",
     "output_type": "stream",
     "text": [
      "[[  1.00000000e+000   9.00135475e-001   3.87945663e-001 ...,\n",
      "    7.11633408e-010   5.06444022e-092   6.26233880e-289]\n",
      " [  9.00135475e-001   1.00000000e+000   6.56495134e-001 ...,\n",
      "    1.25774148e-008   5.54218989e-088   1.02038186e-281]\n",
      " [  3.87945663e-001   6.56495134e-001   1.00000000e+000 ...,\n",
      "    2.08981943e-006   3.53043788e-080   1.44099453e-267]\n",
      " ..., \n",
      " [  7.11633408e-010   1.25774148e-008   2.08981943e-006 ...,\n",
      "    1.00000000e+000   2.26269832e-043   2.19255894e-195]\n",
      " [  5.06444022e-092   5.54218989e-088   3.53043788e-080 ...,\n",
      "    2.26269832e-043   1.00000000e+000   8.29094444e-056]\n",
      " [  6.26233880e-289   1.02038186e-281   1.44099453e-267 ...,\n",
      "    2.19255894e-195   8.29094444e-056   1.00000000e+000]]\n",
      "[[  1.00000000e+00   9.00135458e-01   3.87945652e-01 ...,   7.11633419e-10\n",
      "    0.00000000e+00   0.00000000e+00]\n",
      " [  9.00135458e-01   1.00000000e+00   6.56495154e-01 ...,   1.25774147e-08\n",
      "    0.00000000e+00   0.00000000e+00]\n",
      " [  3.87945652e-01   6.56495154e-01   1.00000000e+00 ...,   2.08981942e-06\n",
      "    0.00000000e+00   0.00000000e+00]\n",
      " ..., \n",
      " [  7.11633419e-10   1.25774147e-08   2.08981942e-06 ...,   1.00000000e+00\n",
      "    2.25609053e-43   0.00000000e+00]\n",
      " [  0.00000000e+00   0.00000000e+00   0.00000000e+00 ...,   2.25609053e-43\n",
      "    1.00000000e+00   0.00000000e+00]\n",
      " [  0.00000000e+00   0.00000000e+00   0.00000000e+00 ...,   0.00000000e+00\n",
      "    0.00000000e+00   1.00000000e+00]]\n",
      "2 50\n"
     ]
    }
   ],
   "source": [
    "S = np.concatenate((x_K,x_M), axis=0)\n",
    "print(x_K.shape, val.shape)\n",
    "plt.scatter(x_K, rate / (1 + np.exp(-val[:K])))\n",
    "plt.show()\n",
    "print(k.K(S, S))\n",
    "print(C)\n",
    "print(rate, measure)"
   ]
  },
  {
   "cell_type": "code",
   "execution_count": 116,
   "metadata": {},
   "outputs": [
    {
     "name": "stdout",
     "output_type": "stream",
     "text": [
      "43 109\n"
     ]
    }
   ],
   "source": [
    "print(len(x_K), len(x_M))"
   ]
  },
  {
   "cell_type": "code",
   "execution_count": 117,
   "metadata": {},
   "outputs": [
    {
     "name": "stdout",
     "output_type": "stream",
     "text": [
      "152\n",
      "43 109\n"
     ]
    },
    {
     "data": {
      "image/png": "[encoded data removed]",
      "text/plain": [
       "<matplotlib.figure.Figure at 0x7f4a94a4c588>"
      ]
     },
     "metadata": {},
     "output_type": "display_data"
    }
   ],
   "source": [
    "\n",
    "K = len(x_K)\n",
    "M = len(x_M)\n",
    "print(N)\n",
    "print(K,M)\n",
    "plt.scatter(S, G)\n",
    "plt.show()"
   ]
  },
  {
   "cell_type": "code",
   "execution_count": 118,
   "metadata": {},
   "outputs": [],
   "source": [
    "X = tf.constant(C)\n",
    "F = tf.Variable(G, name=\"FunctionVal\", dtype=tf.float32)\n",
    "\n",
    "prior_loss = 0.5*tf.matmul(tf.expand_dims(F, axis=0), tf.matmul(tf.matrix_inverse(X + 1e-6*tf.eye(N)), tf.expand_dims(F, axis=1)))\n",
    "prior_loss = tf.squeeze(prior_loss)"
   ]
  },
  {
   "cell_type": "code",
   "execution_count": 152,
   "metadata": {},
   "outputs": [],
   "source": [
    "#tf.ones(shape=[K])\n",
    "#tf.slice(F, [0], [K])\n",
    "likelihood_loss = tf.reduce_sum(tf.log(tf.ones([K]) + tf.exp(-tf.slice(F, [0], [K]))))\n",
    "likelihood_loss += tf.reduce_sum(tf.log(tf.ones([M]) + tf.exp(tf.slice(F, [K], [M]))))    \n",
    "loss = prior_loss + likelihood_loss\n",
    "train_op = tf.train.AdadeltaOptimizer(0.01, 0.95, 1e-5).minimize(loss)\n",
    "#train_op = tf.train.GradientDescentOptimizer(1e-7).minimize(loss)\n",
    "init_OP = tf.global_variables_initializer()"
   ]
  },
  {
   "cell_type": "code",
   "execution_count": 153,
   "metadata": {},
   "outputs": [
    {
     "name": "stdout",
     "output_type": "stream",
     "text": [
      "134.297\n",
      "125.113\n",
      "119.142\n",
      "113.946\n",
      "110.888\n",
      "107.333\n",
      "105.498\n",
      "102.833\n",
      "100.517\n",
      "98.1052\n",
      "95.8221\n",
      "94.0091\n",
      "92.8328\n",
      "91.4599\n",
      "89.4568\n",
      "88.0087\n",
      "85.4245\n",
      "84.8758\n",
      "83.9912\n",
      "82.6299\n",
      "82.4493\n",
      "80.9882\n",
      "79.8532\n",
      "79.3682\n",
      "79.7241\n",
      "77.859\n",
      "77.4693\n",
      "76.7161\n",
      "75.6078\n",
      "75.9333\n",
      "75.3686\n",
      "74.7395\n",
      "73.6898\n",
      "72.9701\n",
      "72.6164\n",
      "72.5333\n",
      "72.5732\n",
      "71.5203\n",
      "71.1612\n",
      "71.1887\n",
      "70.4409\n",
      "70.1507\n",
      "69.9999\n",
      "69.5402\n",
      "69.7339\n",
      "69.4146\n",
      "69.2962\n",
      "68.1166\n",
      "68.471\n",
      "68.1797\n",
      "68.0847\n",
      "66.6412\n",
      "67.1202\n",
      "67.9849\n",
      "67.9525\n",
      "66.9779\n",
      "67.3777\n",
      "67.0672\n",
      "65.8616\n",
      "65.9185\n",
      "66.5053\n",
      "66.9086\n",
      "67.1189\n",
      "65.3796\n",
      "66.0831\n",
      "67.1607\n",
      "65.2105\n",
      "66.0994\n",
      "65.2665\n",
      "64.5533\n",
      "65.3542\n",
      "66.0296\n",
      "65.9048\n",
      "64.9904\n",
      "65.2198\n",
      "65.0133\n",
      "66.1422\n",
      "65.0739\n",
      "65.9751\n",
      "65.3205\n",
      "64.5728\n",
      "66.4175\n",
      "64.6346\n",
      "65.4895\n",
      "66.3591\n",
      "65.5115\n",
      "65.0442\n",
      "64.8456\n",
      "65.0298\n",
      "64.8639\n",
      "64.3379\n",
      "64.864\n",
      "65.0875\n",
      "64.8722\n",
      "64.9092\n",
      "65.5037\n",
      "64.9661\n",
      "64.2527\n",
      "65.3959\n",
      "64.8976\n",
      "65.243\n"
     ]
    }
   ],
   "source": [
    "with tf.Session() as sess:\n",
    "    sess.run(init_OP)\n",
    "    l = sess.run(loss)\n",
    "    print(l)\n",
    "    for i in range(100):\n",
    "        #print(sess.run(tf.gradients(loss, F)))\n",
    "        sess.run(train_op)\n",
    "        l = sess.run(loss)\n",
    "        print(l)\n",
    "        \n",
    "    val = sess.run(F)"
   ]
  },
  {
   "cell_type": "code",
   "execution_count": 121,
   "metadata": {},
   "outputs": [
    {
     "data": {
      "image/png": "[encoded data removed]",
      "text/plain": [
       "<matplotlib.figure.Figure at 0x7f4a73744128>"
      ]
     },
     "metadata": {},
     "output_type": "display_data"
    }
   ],
   "source": [
    "plt.scatter(S, val)\n",
    "plt.show()"
   ]
  }
 ],
 "metadata": {
  "kernelspec": {
   "display_name": "Python 3",
   "language": "python",
   "name": "python3"
  }
 },
 "nbformat": 4,
 "nbformat_minor": 2
}
