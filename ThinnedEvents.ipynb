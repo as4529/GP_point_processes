{
 "cells": [
  {
   "cell_type": "code",
   "execution_count": 1,
   "metadata": {},
   "outputs": [],
   "source": [
    "import numpy as np\n",
    "import GPy\n",
    "import seaborn as sns\n",
    "import math\n",
    "import matplotlib.pyplot as plt\n",
    "import edward as ed\n",
    "import tensorflow as tf\n",
    "from edward.models import MultivariateNormalFullCovariance, Normal\n",
    "from scipy.stats import bernoulli\n",
    "from tqdm import tqdm"
   ]
  },
  {
   "cell_type": "markdown",
   "metadata": {},
   "source": [
    "## Simulate data using Intensity function\n",
    "\n",
    "> $$ \\lambda_1(s) = 2 \\exp\\{-s/15\\} + \\exp\\{-((s-25)/10)^2\\}$$\n",
    "> $$ \\lambda_2(s) = 5 \\sin(s^2) + 6$$"
   ]
  },
  {
   "cell_type": "code",
   "execution_count": 66,
   "metadata": {},
   "outputs": [],
   "source": [
    "def build_toy_dataset1():\n",
    "    rate = 2\n",
    "    measure = 50\n",
    "    N = 2 * np.random.poisson(measure * rate)\n",
    "    S = np.expand_dims(np.sort(np.linspace(0, measure, N)), axis = 1)\n",
    "    Z = 2*np.exp(-S/15) + np.exp(-((S-25)/10)**2)\n",
    "    print(N)\n",
    "    return S, Z, N, rate, measure\n",
    "\n",
    "def build_toy_dataset2():\n",
    "    rate = 12\n",
    "    measure = 5\n",
    "    N = np.random.poisson(measure * rate)\n",
    "    S = np.expand_dims(np.sort(np.linspace(0, measure, N)), axis = 1)\n",
    "    Z = 5 * np.sin(S**2) + 6\n",
    "    print(N)\n",
    "    return S, Z, N, rate, measure\n"
   ]
  },
  {
   "cell_type": "markdown",
   "metadata": {},
   "source": [
    "## Generate and plot data"
   ]
  },
  {
   "cell_type": "code",
   "execution_count": 69,
   "metadata": {},
   "outputs": [
    {
     "name": "stdout",
     "output_type": "stream",
     "text": [
      "10\n",
      "222\n"
     ]
    },
    {
     "data": {
      "image/png": "[encoded data removed]",
      "text/plain": [
       "<matplotlib.figure.Figure at 0x7fd8ecc10050>"
      ]
     },
     "metadata": {},
     "output_type": "display_data"
    }
   ],
   "source": [
    "#hyper_params = np.array([10, 1])\n",
    "print(hyper_params[0])\n",
    "kern = GPy.kern.RBF(input_dim=1, lengthscale=8, variance=1)\n",
    "#k = GPy.kern.PeriodicExponential(input_dim=1, period=2, variance=7) - > best fit p=2, var=7\n",
    "S, Z, N, rate, measure = build_toy_dataset1()\n",
    "plt.scatter(S, Z)\n",
    "plt.show()"
   ]
  },
  {
   "cell_type": "markdown",
   "metadata": {},
   "source": [
    "## Thinning events to keep data points consistent with the intensity function"
   ]
  },
  {
   "cell_type": "code",
   "execution_count": 70,
   "metadata": {},
   "outputs": [
    {
     "data": {
      "image/png": "[encoded data removed]",
      "text/plain": [
       "<matplotlib.figure.Figure at 0x7fd8ec995c90>"
      ]
     },
     "metadata": {},
     "output_type": "display_data"
    },
    {
     "name": "stdout",
     "output_type": "stream",
     "text": [
      "(222, 134)\n"
     ]
    },
    {
     "data": {
      "image/png": "[encoded data removed]",
      "text/plain": [
       "<matplotlib.figure.Figure at 0x7fd8ec972950>"
      ]
     },
     "metadata": {},
     "output_type": "display_data"
    }
   ],
   "source": [
    "R = np.random.uniform(0, 1, N)\n",
    "V = (Z / rate).flatten()\n",
    "G = np.random.multivariate_normal(np.zeros((S.shape[0])), kern.K(S, S))\n",
    "accept = np.where(R < (1 / (1 + np.exp(-G))))\n",
    "S_k  = np.take(S, accept, axis=0).reshape(-1,1)\n",
    "Z_k  = np.take(Z, accept, axis=0).reshape(-1)\n",
    "#G_k = np.log(Z_k / (rate - Z_k)).reshape(-1)\n",
    "G_k = np.take(G, accept, axis=0).reshape(-1)#random.multivariate_normal(np.zeros((S_k.shape[0])), k.K(S_k,S_k))\n",
    "#X = k.K(S_k, S_k)\n",
    "plt.scatter(S_k, Z_k)\n",
    "plt.show()\n",
    "K = S_k.shape[0]\n",
    "print(N,K)\n",
    "plt.ylim((0,rate))\n",
    "plt.scatter(S_k, rate/(1+np.exp(-G_k)))\n",
    "plt.show()"
   ]
  },
  {
   "cell_type": "code",
   "execution_count": null,
   "metadata": {},
   "outputs": [],
   "source": [
    "#prior_loss = 0.5 * np.matmul(np.expand_dims(G_k, axis=0), np.matmul(np.linalg.inv(X + 1e-6*np.eye(K)), np.expand_dims(G_k, axis=1)))\n",
    "prior_loss = 0.5 * np.matmul(np.expand_dims(G_k, axis=0), np.expand_dims(G_k, axis=1))\n",
    "like_loss = np.sum(np.log(np.ones(K) + np.exp(-G_k)))\n",
    "print(like_loss)\n",
    "#likelihood_loss = tf.reduce_sum(tf.log(tf.ones([K]) + tf.exp(-tf.slice(F, [0], [K]))))\n",
    "#likelihood_loss += tf.reduce_sum(tf.log(tf.ones([M]) + tf.exp(tf.slice(F, [K], [M]))))    \n",
    "loss = prior_loss + like_loss\n",
    "print(loss)"
   ]
  },
  {
   "cell_type": "markdown",
   "metadata": {},
   "source": [
    "### Conditional for Gaussian process"
   ]
  },
  {
   "cell_type": "code",
   "execution_count": 5,
   "metadata": {},
   "outputs": [],
   "source": [
    "def conditional(x_new, x, y, k):\n",
    "\n",
    "    B = k.K(x_new, x)\n",
    "    C = k.K(x,x)\n",
    "    A = k.K(x_new, x_new)\n",
    "    N = len(C)\n",
    "    mu = B.dot(np.linalg.inv(C + 1e-6*np.eye(N))).dot(y)\n",
    "    sigma = A - B.dot(np.linalg.inv(C + 1e-6*np.eye(N)).dot(B.T))\n",
    "    #print(mu.shape, sigma.shape)\n",
    "    return(mu.squeeze(), sigma.squeeze())"
   ]
  },
  {
   "cell_type": "code",
   "execution_count": 6,
   "metadata": {},
   "outputs": [],
   "source": [
    "def slice_sampling(g, S, K, n_iter=5000):\n",
    "    burn_in = 1000\n",
    "    cov = kern.K(S, S)\n",
    "    \n",
    "    cov_inv = np.linalg.inv(cov + 1e-5 * np.eye(len(S)))\n",
    "    vec = np.zeros((n_iter, len(S)), dtype=np.float32)\n",
    "    cand = np.random.multivariate_normal(np.zeros(len(S)), cov, n_iter)\n",
    "    for i in range(n_iter):\n",
    "        u = np.random.uniform()\n",
    "        log_y = log_posterior(g, cov_inv, K) + np.log(u)\n",
    "        theta = np.random.uniform(low=0.0, high=2*np.pi)\n",
    "        theta_min, theta_max = theta - 2*np.pi, theta\n",
    "        while(True):\n",
    "            new = np.cos(theta)*g + np.sin(theta)*cand[i]\n",
    "            if log_posterior(new, cov_inv, K) > log_y:\n",
    "                vec[i] = new.reshape(-1)\n",
    "                break\n",
    "            else:\n",
    "                theta_min, theta_max = (theta, theta_max) if theta<0 else (theta_min, theta)\n",
    "                theta = np.random.uniform(low = theta_min, high=theta_max)\n",
    "        \n",
    "        g = vec[i]\n",
    "                \n",
    "    G = np.mean(np.array(vec)[burn_in:], axis=0)\n",
    "    return G\n",
    "\n",
    "def slice_sampling_tf(g, S, K, n_iter=5000):\n",
    "    burn_in = 1000\n",
    "    "
   ]
  },
  {
   "cell_type": "code",
   "execution_count": 7,
   "metadata": {},
   "outputs": [],
   "source": [
    "def log_posterior(g, cov_inv, K):\n",
    "    \n",
    "    #gX = np.matmul(np.transpose(g), cov_inv)\n",
    "    #gXg = 0.5 * np.matmul(gX, g)\n",
    "    log_prior = np.sum(np.log(1 + np.exp(-g[:K]))) + np.sum(np.log(1 + np.exp(g[K:])))\n",
    "    return -log_prior\n",
    "\n",
    "def log_post_hyper(g, S, params):\n",
    "    \n",
    "    kern = GPy.kern.RBF(input_dim=1, lengthscale=params[0], variance=params[1])\n",
    "    cov = kern.K(S, S)\n",
    "    cov_inv = np.linalg.inv(cov + 1e-6*np.linalg.inv(cov))\n",
    "    sigma = np.eye(len(params))\n",
    "    #log_prior = - 0.5 * np.matmul(np.transpose(np.log(np.log(1 + np.exp(params)))), np.matmul(np.linalg.inv(sigma), np.log(np.log(1 + np.exp(params)))))\n",
    "    gX = np.matmul(np.transpose(g), cov_inv)\n",
    "    gXg = 0.5 * np.matmul(gX, g)\n",
    "    like_prior = gXg + 0.5 * np.log(np.linalg.norm(cov))\n",
    "    return -like_prior"
   ]
  },
  {
   "cell_type": "code",
   "execution_count": 8,
   "metadata": {},
   "outputs": [],
   "source": [
    "def log_post_tf(g, cov_inv, K):\n",
    "    log_prior = tf.reduce_sum(tf.log(1 + tf.exp(-tf.slice(g,[0,0],[K,1])))) + tf.reduce_sum(tf.log(1 + tf.exp(tf.slice(g, [K,0],[-1,1]))))\n",
    "    return -log_prior"
   ]
  },
  {
   "cell_type": "code",
   "execution_count": 9,
   "metadata": {},
   "outputs": [],
   "source": [
    "def slice_hyper(g, S, params, n_iter=5000):\n",
    "    \n",
    "    burn_in = 500\n",
    "    vec = np.zeros((n_iter, len(params)), dtype=np.float32)\n",
    "    cand = np.random.multivariate_normal(np.zeros(len(params)), 5*np.eye(len(params)), n_iter)\n",
    "    \n",
    "    for i in range(n_iter):\n",
    "        u = np.random.uniform()\n",
    "        log_y = log_post_hyper(g, S, params) + np.log(u)\n",
    "        theta = np.random.uniform(low=0.0, high=2*np.pi)\n",
    "        theta_min, theta_max = theta - 2*np.pi, theta\n",
    "        while(True):\n",
    "            new = np.cos(theta)*params + np.sin(theta)*cand[i]\n",
    "            if np.any(new<0):\n",
    "                continue\n",
    "            if log_post_hyper(g, S, new) > log_y:\n",
    "                vec[i] = new.reshape(-1)\n",
    "                break\n",
    "            else:\n",
    "                theta_min, theta_max = (theta, theta_max) if theta<0 else (theta_min, theta)\n",
    "                theta = np.random.uniform(low = theta_min, high=theta_max)\n",
    "        \n",
    "        params = vec[i]\n",
    "                \n",
    "    P = np.mean(np.array(vec)[burn_in:], axis=0)\n",
    "    return P"
   ]
  },
  {
   "cell_type": "code",
   "execution_count": 10,
   "metadata": {},
   "outputs": [],
   "source": [
    "def metropolis_hyper(g, S, params, n_iter=5000):\n",
    "    burn_in = 500\n",
    "    vec = np.zeros((n_iter, len(params)), dtype=np.float32)\n",
    "    cand = np.exp(np.random.multivariate_normal(np.zeros(len(params)), 1e-3*np.eye(len(params)), n_iter))\n",
    "    print(cand.shape)\n",
    "    eps = 0.3\n",
    "    for i in range(n_iter):\n",
    "        new = np.sqrt(1-(eps**2))*params + eps*cand[i]# + np.random.multivariate_normal(g.flatten(), cov + 1e-5*np.eye(len(S)))\n",
    "        ratio = log_post_hyper(g, S, new)\n",
    "        ratio = - log_post_hyper(g, S, params)\n",
    "        if np.log(np.random.uniform()) < ratio:\n",
    "            vec[i] = new\n",
    "        else:\n",
    "            vec[i] = params.reshape(-1)\n",
    "        params = vec[i]\n",
    "    \n",
    "    \n",
    "    P = np.mean(np.array(vec)[burn_in:], axis=0)\n",
    "    #print(G)\n",
    "#     plt.scatter(S, rate / (1.0 + np.exp(-G)))\n",
    "#     plt.ylim((0, rate))\n",
    "#     plt.show()\n",
    "    return P"
   ]
  },
  {
   "cell_type": "code",
   "execution_count": null,
   "metadata": {},
   "outputs": [],
   "source": [
    "def metropolis_hastings(g, S, K, n_iter=5000):\n",
    "    vec = []\n",
    "    burn_in = 1000\n",
    "    cov = k.K(S, S)\n",
    "    \n",
    "    cov_inv = np.linalg.inv(cov + 1e-5 * np.eye(len(S)))\n",
    "    #print(cov_inv)\n",
    "#    cand = np.random.uniform(low=-3, high=3.0, size=(n_iter,len(S)))\n",
    "    cand = np.random.multivariate_normal(np.zeros(len(S)), cov, n_iter)\n",
    "    print(cand.shape)\n",
    "    eps = 0.1\n",
    "    vec = np.zeros((n_iter, len(S)), dtype=np.float32)\n",
    "    for i in range(n_iter):\n",
    "        new = np.sqrt(1-eps**2)*g + eps*cand[i]# + np.random.multivariate_normal(g.flatten(), cov + 1e-5*np.eye(len(S)))\n",
    "        ratio = log_posterior(new, cov_inv, K)\n",
    "        ratio = - log_posterior(g, cov_inv, K)\n",
    "        if np.log(np.random.uniform()) < ratio:\n",
    "            vec[i] = new\n",
    "        else:\n",
    "            vec[i] = g.reshape(-1)\n",
    "        g = vec[i]\n",
    "    \n",
    "    \n",
    "    G = np.mean(np.array(vec)[burn_in:], axis=0)\n",
    "    #print(G)\n",
    "#     plt.scatter(S, rate / (1.0 + np.exp(-G)))\n",
    "#     plt.ylim((0, rate))\n",
    "#     plt.show()\n",
    "    return G"
   ]
  },
  {
   "cell_type": "code",
   "execution_count": 21,
   "metadata": {},
   "outputs": [],
   "source": [
    "def update(x_K, y_K, x_M, y_M):\n",
    "   \n",
    "    global kern\n",
    "    bern_p = 0.5\n",
    "    K = len(x_K)\n",
    "    print(y_M.shape)\n",
    "    ### Sampling number of thinned events\n",
    "    for i in range(10):\n",
    "        b = bernoulli.rvs(bern_p, size=1)     # Sample from a bernoulli\n",
    "        M = len(x_M)\n",
    "        if b==1:\n",
    "            x_new = np.random.uniform(low=0.0, high = measure, size=(1,1))   # Sample uniformly from the region\n",
    "            \n",
    "            mu_new, sigma_new = conditional(x_new, np.concatenate((x_K,x_M), axis=0), np.concatenate((y_K, y_M), axis=0), kern)\n",
    "            y_new = np.random.normal(loc=mu_new, scale=np.sqrt(sigma_new))\n",
    "            \n",
    "            ## Calculate insertion ratio\n",
    "            ratio = np.log(rate * measure)\n",
    "            ratio -= np.log(M + 1)\n",
    "            ratio -= np.log(1 + np.exp(y_new))\n",
    "            a = np.random.uniform(0, 1)\n",
    "            \n",
    "            if np.log(a) < ratio:\n",
    "                x_M = np.concatenate((x_M, x_new), axis=0)\n",
    "                y_M = np.concatenate((y_M, np.expand_dims(y_new, axis=1)))\n",
    "        \n",
    "        \n",
    "        elif M>0:\n",
    "            c = np.random.choice(M, 1)[0]    # Uniformly choose an event to delete\n",
    "            \n",
    "            ## Calculate deletion ratio\n",
    "            ratio = np.log(M)\n",
    "            ratio += np.log(1 + np.exp(y_M[c]))\n",
    "            ratio -= np.log(rate * measure)\n",
    "            a = np.random.uniform(0, 1)\n",
    "            \n",
    "            if np.log(a) < ratio:\n",
    "                x_M = np.delete(x_M, c, 0)\n",
    "                y_M = np.delete(y_M, c)\n",
    "\n",
    "\n",
    "    ## Sampling the location of thinned events\n",
    "\n",
    "    for i in range(len(x_M)):   # Use enumerate\n",
    "\n",
    "        x_new = np.random.normal(loc=x_M[i], scale=np.sqrt(1.0*measure/100.0), size=(1,1))#np.random.uniform(low=0.0, high=measure, size=(1,1))    # Sample a new data point\n",
    "        mu_new, sigma_new = conditional(x_new, np.concatenate((x_K,np.delete(x_M,i,axis=0)), axis=0), np.concatenate((y_K, np.delete(y_M,i,axis=0)), axis=0), kern)\n",
    "        y_new = np.random.normal(loc=mu_new, scale=np.sqrt(sigma_new))\n",
    "        \n",
    "        # Calculate the acceptance ratio\n",
    "        ratio = np.log(1 + np.exp(y_M[i]))\n",
    "        ratio -= np.log(1 + np.exp(y_new))\n",
    "\n",
    "        a = np.random.uniform(0, 1)\n",
    "        if np.log(a) < ratio:\n",
    "            x_M[i] = x_new\n",
    "            y_M[i] = y_new\n",
    "            \n",
    "    \n",
    "    S = np.concatenate((x_K, x_M), axis=0)\n",
    "    G = np.concatenate((y_K, y_M), axis=0)\n",
    "    N = S.shape[0]       # Number of data points K+M\n",
    "    K = len(x_K)\n",
    "    #val = metropolis_hastings(G, S, K, n_iter=10000)\n",
    "    val = slice_sampling(G, S, K, n_iter=5000)\n",
    "    #hyper_params = metropolis_hyper(val, S, hyper_params)\n",
    "\n",
    "    y_K, y_M = val[:K], val[K:]\n",
    "    return x_K, y_K, x_M, y_M, val"
   ]
  },
  {
   "cell_type": "code",
   "execution_count": 71,
   "metadata": {},
   "outputs": [
    {
     "name": "stdout",
     "output_type": "stream",
     "text": [
      "(0,)\n",
      "(5,)\n",
      "(5,)\n",
      "(11,)\n",
      "(10,)\n",
      "(8,)\n",
      "(12,)\n",
      "(10,)\n",
      "(9,)\n",
      "(11,)\n",
      "(10,)\n",
      "(9,)\n",
      "(8,)\n",
      "(9,)\n",
      "(11,)\n",
      "(7,)\n",
      "(6,)\n",
      "(6,)\n",
      "(4,)\n",
      "(2,)\n",
      "(4,)\n",
      "(7,)\n",
      "(7,)\n",
      "(6,)\n",
      "(6,)\n",
      "(11,)\n",
      "(13,)\n",
      "(15,)\n",
      "(15,)\n",
      "(12,)\n"
     ]
    }
   ],
   "source": [
    "n_iter = 30\n",
    "x_K, y_K = S_k, G_k\n",
    "x_M, y_M = np.empty((0,1)), np.empty((0))\n",
    "errors = []     # List to maintain loss value at each iteration\n",
    "for n in range(n_iter):\n",
    "    \n",
    "    x_K, y_K, x_M, y_M, val = update(x_K, y_K, x_M, y_M)\n",
    "\n",
    "S = np.concatenate((x_K,x_M), axis=0)\n",
    "#plt.plot(np.arange(n_iter), errors)\n"
   ]
  },
  {
   "cell_type": "code",
   "execution_count": null,
   "metadata": {},
   "outputs": [],
   "source": [
    "hyper_params = metropolis_hyper(val, S, np.array([10, 1]))"
   ]
  },
  {
   "cell_type": "code",
   "execution_count": null,
   "metadata": {},
   "outputs": [],
   "source": []
  },
  {
   "cell_type": "code",
   "execution_count": 65,
   "metadata": {},
   "outputs": [
    {
     "data": {
      "image/png": "[encoded data removed]",
      "text/plain": [
       "<matplotlib.figure.Figure at 0x7fd8ec9fb490>"
      ]
     },
     "metadata": {},
     "output_type": "display_data"
    }
   ],
   "source": [
    "plt.scatter(S, rate / (1.0 + np.exp(-val)))\n",
    "plt.ylim((0,rate))\n",
    "plt.xlim((0,measure))\n",
    "plt.show()"
   ]
  },
  {
   "cell_type": "code",
   "execution_count": null,
   "metadata": {},
   "outputs": [],
   "source": [
    "X_pred = np.random.uniform(low=0.0, high=measure,size=(50,1))\n",
    "mu, sigma = conditional(X_pred, S, val, kern)\n",
    "Y_pred = np.random.multivariate_normal(mu, sigma)\n",
    "plt.scatter(X_pred, rate / (1 + np.exp(-Y_pred)))\n",
    "plt.ylim((0,rate))\n",
    "plt.show()"
   ]
  },
  {
   "cell_type": "code",
   "execution_count": null,
   "metadata": {},
   "outputs": [],
   "source": [
    "print(hyper_params)\n",
    "kern = GPy.kern.RBF(input_dim=1, lengthscale=hyper_params[0], variance=hyper_params[1])\n",
    "plt.scatter(S, rate / (1 + np.exp(-np.random.multivariate_normal(np.zeros((S.shape[0])), kern.K(S, S)))))\n",
    "plt.show()"
   ]
  },
  {
   "cell_type": "code",
   "execution_count": null,
   "metadata": {},
   "outputs": [],
   "source": [
    "print(S.shape, Z.shape)\n",
    "                     \n",
    "plt.xlim((0,5))\n",
    "plt.scatter(S_k, Z_k)\n",
    "plt.show()\n",
    "plt.ylim((0,10))\n",
    "plt.xlim((0,5))\n",
    "plt.scatter(S, rate / (1 + np.exp(-val)))\n",
    "plt.show()"
   ]
  },
  {
   "cell_type": "markdown",
   "metadata": {},
   "source": [
    "# End of Relevant Code\n",
    "\n",
    "\n",
    "# Junk Code below this cell. Please do not read."
   ]
  },
  {
   "cell_type": "code",
   "execution_count": null,
   "metadata": {},
   "outputs": [],
   "source": [
    "S = np.concatenate((x_K,x_M), axis=0)\n",
    "print(x_K.shape, val.shape)\n",
    "plt.scatter(x_K, rate / (1 + np.exp(-val[:K])))\n",
    "plt.show()\n",
    "print(k.K(S, S))\n",
    "print(C)\n",
    "print(rate, measure)"
   ]
  },
  {
   "cell_type": "code",
   "execution_count": null,
   "metadata": {},
   "outputs": [],
   "source": [
    "print(len(x_K), len(x_M))"
   ]
  },
  {
   "cell_type": "code",
   "execution_count": null,
   "metadata": {},
   "outputs": [],
   "source": [
    "\n",
    "K = len(x_K)\n",
    "M = len(x_M)\n",
    "print(N)\n",
    "print(K,M)\n",
    "plt.scatter(S, G)\n",
    "plt.show()"
   ]
  },
  {
   "cell_type": "code",
   "execution_count": null,
   "metadata": {},
   "outputs": [],
   "source": [
    "X = tf.constant(C)\n",
    "F = tf.Variable(G, name=\"FunctionVal\", dtype=tf.float32)\n",
    "\n",
    "prior_loss = 0.5*tf.matmul(tf.expand_dims(F, axis=0), tf.matmul(tf.matrix_inverse(X + 1e-6*tf.eye(N)), tf.expand_dims(F, axis=1)))\n",
    "prior_loss = tf.squeeze(prior_loss)"
   ]
  },
  {
   "cell_type": "code",
   "execution_count": null,
   "metadata": {},
   "outputs": [],
   "source": [
    "#tf.ones(shape=[K])\n",
    "#tf.slice(F, [0], [K])\n",
    "likelihood_loss = tf.reduce_sum(tf.log(tf.ones([K]) + tf.exp(-tf.slice(F, [0], [K]))))\n",
    "likelihood_loss += tf.reduce_sum(tf.log(tf.ones([M]) + tf.exp(tf.slice(F, [K], [M]))))    \n",
    "loss = prior_loss + likelihood_loss\n",
    "train_op = tf.train.AdadeltaOptimizer(0.01, 0.95, 1e-5).minimize(loss)\n",
    "#train_op = tf.train.GradientDescentOptimizer(1e-7).minimize(loss)\n",
    "init_OP = tf.global_variables_initializer()"
   ]
  },
  {
   "cell_type": "code",
   "execution_count": null,
   "metadata": {},
   "outputs": [],
   "source": [
    "with tf.Session() as sess:\n",
    "    sess.run(init_OP)\n",
    "    l = sess.run(loss)\n",
    "    print(l)\n",
    "    for i in range(100):\n",
    "        #print(sess.run(tf.gradients(loss, F)))\n",
    "        sess.run(train_op)\n",
    "        l = sess.run(loss)\n",
    "        print(l)\n",
    "        \n",
    "    val = sess.run(F)\n",
    "    \n",
    "import tqdm"
   ]
  },
  {
   "cell_type": "code",
   "execution_count": null,
   "metadata": {},
   "outputs": [],
   "source": [
    "plt.scatter(S, val)\n",
    "plt.show()"
   ]
  },
  {
   "cell_type": "code",
   "execution_count": null,
   "metadata": {},
   "outputs": [],
   "source": [
    "#     kern = GPy.kern.RBF(input_dim=1, lengthscale=hyper_params[0], variance=hyper_params[1])\n",
    "#     D = S.shape[1]       # Dimension of the space\n",
    "#     M = len(x_M)\n",
    "#     C = k.K(S,S).astype(np.float32)\n",
    "#     #chol = np.linalg.cholesky(np.linalg.inv(C + 1e-6 * np.eye(N)))\n",
    "#     #G = np.matmul(chol, G)\n",
    "#     ## Learn function values via gradient optimization\n",
    "#     X = tf.constant(C)\n",
    "#     F = tf.Variable(G, name=\"FunctionVal\", dtype=tf.float32)\n",
    "#     prior_loss = 0.5 * tf.matmul(tf.expand_dims(F, axis=0), tf.matmul(tf.matrix_inverse(X + 1e-6*tf.eye(N)), tf.expand_dims(F, axis=1)))\n",
    "#     #prior_loss = 0.5 * tf.matmul(tf.expand_dims(F, axis=0), tf.expand_dims(F, axis=1))\n",
    "#     prior_loss = tf.squeeze(prior_loss)\n",
    "#     likelihood_loss = tf.reduce_sum(tf.log(tf.ones([K]) + tf.exp(-tf.slice(F, [0], [K]))))\n",
    "#     likelihood_loss += tf.reduce_sum(tf.log(tf.ones([M]) + tf.exp(tf.slice(F, [K], [M]))))    \n",
    "#     loss = prior_loss + likelihood_loss\n",
    "#     train_op = tf.train.AdadeltaOptimizer(0.01,0.95,1e-5).minimize(loss)\n",
    "#     init_OP = tf.global_variables_initializer()\n",
    "#     max_it = 500\n",
    "#     with tf.Session() as sess:\n",
    "#         sess.run(init_OP)\n",
    "#         for i in range(max_it):\n",
    "#             err, _ = sess.run([loss, train_op])\n",
    "#         val = sess.run(F)\n",
    "#     print(err)"
   ]
  }
 ],
 "metadata": {
  "kernelspec": {
   "display_name": "Python 2",
   "language": "python",
   "name": "python2"
  },
  "language_info": {
   "codemirror_mode": {
    "name": "ipython",
    "version": 2
   },
   "file_extension": ".py",
   "mimetype": "text/x-python",
   "name": "python",
   "nbconvert_exporter": "python",
   "pygments_lexer": "ipython2",
   "version": "2.7.12"
  }
 },
 "nbformat": 4,
 "nbformat_minor": 2
}
