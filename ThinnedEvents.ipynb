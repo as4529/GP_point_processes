{
 "cells": [
  {
   "cell_type": "code",
   "execution_count": 1,
   "metadata": {},
   "outputs": [],
   "source": [
    "import numpy as np\n",
    "import GPy\n",
    "import seaborn as sns\n",
    "import math\n",
    "import matplotlib.pyplot as plt\n",
    "import edward as ed\n",
    "import tensorflow as tf\n",
    "from edward.models import MultivariateNormalFullCovariance, Normal\n",
    "from scipy.stats import bernoulli\n",
    "from tqdm import tqdm"
   ]
  },
  {
   "cell_type": "markdown",
   "metadata": {},
   "source": [
    "## Simulate data using Intensity function\n",
    "\n",
    "> $$ \\lambda_1(s) = 2 \\exp\\{-s/15\\} + \\exp\\{-((s-25)/10)^2\\}$$\n",
    "> $$ \\lambda_2(s) = 5 \\sin(s^2) + 6$$"
   ]
  },
  {
   "cell_type": "code",
   "execution_count": 2,
   "metadata": {},
   "outputs": [],
   "source": [
    "def build_toy_dataset1():\n",
    "    rate = 2\n",
    "    measure = 50\n",
    "    N = np.random.poisson(measure * rate)\n",
    "    S = np.expand_dims(np.sort(np.linspace(0, measure, N)), axis = 1)\n",
    "    Z = 2*np.exp(-S/15) + np.exp(-((S-25)/10)**2)\n",
    "    print(N)\n",
    "    return S, Z, N, rate, measure\n",
    "\n",
    "def build_toy_dataset2():\n",
    "    rate = 12\n",
    "    measure = 5\n",
    "    N = np.random.poisson(measure * rate)\n",
    "    S = np.expand_dims(np.sort(np.linspace(0, measure, N)), axis = 1)\n",
    "    Z = 5 * np.sin(S**2) + 6\n",
    "    print(N)\n",
    "    return S, Z, N, rate, measure\n"
   ]
  },
  {
   "cell_type": "markdown",
   "metadata": {},
   "source": [
    "## Generate and plot data"
   ]
  },
  {
   "cell_type": "code",
   "execution_count": 3,
   "metadata": {},
   "outputs": [
    {
     "name": "stdout",
     "output_type": "stream",
     "text": [
      "106\n"
     ]
    },
    {
     "data": {
      "image/png": "[encoded data removed]",
      "text/plain": [
       "<matplotlib.figure.Figure at 0x7f505b0df450>"
      ]
     },
     "metadata": {},
     "output_type": "display_data"
    }
   ],
   "source": [
    "k = GPy.kern.RBF(input_dim=1,lengthscale=1)\n",
    "S, Z, N, rate, measure = build_toy_dataset1()\n",
    "plt.scatter(S, Z)\n",
    "plt.show()"
   ]
  },
  {
   "cell_type": "markdown",
   "metadata": {},
   "source": [
    "## Thinning events to keep data points consistent with the intensity function"
   ]
  },
  {
   "cell_type": "code",
   "execution_count": 4,
   "metadata": {},
   "outputs": [
    {
     "data": {
      "image/png": "[encoded data removed]",
      "text/plain": [
       "<matplotlib.figure.Figure at 0x7f505b045890>"
      ]
     },
     "metadata": {},
     "output_type": "display_data"
    },
    {
     "name": "stdout",
     "output_type": "stream",
     "text": [
      "(106, 1)\n",
      "(57, 1)\n"
     ]
    }
   ],
   "source": [
    "R = np.random.uniform(0, 1, N)\n",
    "V = (Z / rate).flatten()\n",
    "accept = np.where(R < V)\n",
    "S_k  = np.take(S, accept, axis=0).reshape(-1,1)\n",
    "Z_k  = np.take(Z, accept, axis=0).reshape(-1)\n",
    "plt.scatter(S_k, Z_k)\n",
    "plt.show()\n",
    "print(S.shape)\n",
    "print(S_k.shape)"
   ]
  },
  {
   "cell_type": "markdown",
   "metadata": {},
   "source": [
    "### Conditional for Gaussian process"
   ]
  },
  {
   "cell_type": "code",
   "execution_count": 5,
   "metadata": {},
   "outputs": [],
   "source": [
    "def conditional(x_new, x, y, k):\n",
    "\n",
    "    B = k.K(x_new, x)\n",
    "    C = k.K(x,x)\n",
    "    A = k.K(x_new, x_new)\n",
    "    N = len(C)\n",
    "    mu = B.dot(np.linalg.inv(C + 1e-6*np.eye(N))).dot(y)\n",
    "    sigma = A - B.dot(np.linalg.inv(C + 1e-6*np.eye(N)).dot(B.T))\n",
    "    return(mu.squeeze(), sigma.squeeze())"
   ]
  },
  {
   "cell_type": "code",
   "execution_count": 17,
   "metadata": {},
   "outputs": [],
   "source": [
    "def update(x_K, y_K, x_M, y_M):\n",
    "   \n",
    "    bern_p = 0.5\n",
    "    K = len(x_K)\n",
    "    \n",
    "    ### Sampling number of thinned events\n",
    "    for i in range(10):\n",
    "        b = bernoulli.rvs(bern_p, size=1)     # Sample from a bernoulli\n",
    "        M = len(x_M)\n",
    "        if b==1:\n",
    "            x_new = np.random.uniform(low=0.0, high = measure, size=(1,1))   # Sample uniformly from the region\n",
    "            \n",
    "            mu_new, sigma_new = conditional(x_new, np.concatenate((x_K,x_M), axis=0), np.concatenate((y_K, y_M), axis=0), k)\n",
    "            y_new = np.random.normal(loc=mu_new, scale=np.sqrt(sigma_new))\n",
    "            \n",
    "            ## Calculate insertion ratio\n",
    "            ratio = np.log(rate * measure)\n",
    "            ratio -= np.log(M + 1)\n",
    "            ratio -= np.log(1 + np.exp(y_new))\n",
    "            a = np.random.uniform(0, 1)\n",
    "            \n",
    "            if np.log(a) < ratio:\n",
    "                x_M = np.concatenate((x_M, x_new), axis=0)\n",
    "                y_M = np.concatenate((y_M, np.expand_dims(y_new, axis=1)))\n",
    "        \n",
    "        \n",
    "        elif M>0:\n",
    "            c = np.random.choice(M, 1)[0]    # Uniformly choose an event to delete\n",
    "            \n",
    "            ## Calculate deletion ratio\n",
    "            ratio = np.log(M)\n",
    "            ratio += np.log(1 + np.exp(y_M[c]))\n",
    "            ratio -= np.log(rate * measure)\n",
    "            a = np.random.uniform(0, 1)\n",
    "            \n",
    "            if np.log(a) < ratio:\n",
    "                x_M = np.delete(x_M, c, 0)\n",
    "                y_M = np.delete(y_M, c)\n",
    "\n",
    "\n",
    "    ## Sampling the location of thinned events\n",
    "\n",
    "    for i in range(len(x_M)):   # Use enumerate\n",
    "\n",
    "        x_new = np.random.uniform(low=0.0, high=measure, size=(1,1))    # Sample a new data point\n",
    "        mu_new, sigma_new = conditional(x_new, np.concatenate((x_K,x_M), axis=0), np.concatenate((y_K, y_M), axis=0), k)\n",
    "        y_new = np.random.normal(loc=mu_new, scale=np.sqrt(sigma_new))\n",
    "        \n",
    "        # Calculate the acceptance ratio\n",
    "        ratio = np.log(1 + np.exp(y_M[i]))\n",
    "        ratio -= np.log(1 + np.exp(y_new))\n",
    "\n",
    "        a = np.random.uniform(0, 1)\n",
    "        if np.log(a) < ratio:\n",
    "            x_M[i] = x_new\n",
    "            y_M[i] = y_new\n",
    "            \n",
    "    \n",
    "    S = np.concatenate((x_K, x_M), axis=0)\n",
    "    G = np.concatenate((y_K, y_M), axis=0)\n",
    "    N = S.shape[0]       # Number of data points K+M\n",
    "    D = S.shape[1]       # Dimension of the space\n",
    "    M = len(x_M)\n",
    "    C = k.K(S,S).astype(np.float32)\n",
    "    \n",
    "    ## Learn function values via gradient optimization\n",
    "    X = tf.constant(C)\n",
    "    F = tf.Variable(G, name=\"FunctionVal\", dtype=tf.float32)\n",
    "    prior_loss = 0.5 * tf.matmul(tf.expand_dims(F, axis=0), tf.matmul(tf.matrix_inverse(X + 1e-6*tf.eye(N)), tf.expand_dims(F, axis=1)))\n",
    "    prior_loss = tf.squeeze(prior_loss)\n",
    "    likelihood_loss = tf.reduce_sum(tf.log(tf.ones([K]) + tf.exp(-tf.slice(F, [0], [K]))))\n",
    "    likelihood_loss += tf.reduce_sum(tf.log(tf.ones([M]) + tf.exp(tf.slice(F, [K], [M]))))    \n",
    "    loss = prior_loss + likelihood_loss\n",
    "    train_op = tf.train.AdadeltaOptimizer(0.1, 0.95, 1e-5).minimize(loss)\n",
    "    init_OP = tf.global_variables_initializer()\n",
    "    max_it = 50\n",
    "    with tf.Session() as sess:\n",
    "        sess.run(init_OP)\n",
    "        for i in range(max_it):\n",
    "            err, _ = sess.run([loss, train_op])\n",
    "        val = sess.run(F)\n",
    "    return x_K, y_K, x_M, y_M, val, err"
   ]
  },
  {
   "cell_type": "code",
   "execution_count": 15,
   "metadata": {},
   "outputs": [
    {
     "data": {
      "image/png": "[encoded data removed]",
      "text/plain": [
       "<matplotlib.figure.Figure at 0x7f50350dff50>"
      ]
     },
     "metadata": {},
     "output_type": "display_data"
    }
   ],
   "source": [
    "n_iter = 50\n",
    "x_K, y_K = S_k, Z_k\n",
    "x_M, y_M = np.empty((0,1)), np.empty((0))\n",
    "errors = []     # List to maintain loss value at each iteration\n",
    "for n in range(n_iter):\n",
    "    \n",
    "    x_K, y_K, x_M, y_M, val, err = update(x_K, y_K, x_M, y_M)\n",
    "    errors.append(err)\n",
    "\n",
    "S = np.concatenate((x_K,x_M), axis=0)\n",
    "plt.plot(np.arange(n_iter), errors)\n",
    "#plt.scatter(S, rate / (1 + np.exp(-val)))\n",
    "plt.show()"
   ]
  },
  {
   "cell_type": "code",
   "execution_count": 16,
   "metadata": {},
   "outputs": [
    {
     "data": {
      "image/png": "[encoded data removed]",
      "text/plain": [
       "<matplotlib.figure.Figure at 0x7f50351712d0>"
      ]
     },
     "metadata": {},
     "output_type": "display_data"
    }
   ],
   "source": [
    "plt.scatter(S, rate / (1 + np.exp(-val)))\n",
    "plt.show()"
   ]
  },
  {
   "cell_type": "markdown",
   "metadata": {},
   "source": [
    "# End of Relevant Code\n",
    "\n",
    "\n",
    "# Junk Code below this cell. Please do not read."
   ]
  },
  {
   "cell_type": "code",
   "execution_count": 18,
   "metadata": {},
   "outputs": [
    {
     "name": "stdout",
     "output_type": "stream",
     "text": [
      "(49, 1) (79,)\n"
     ]
    },
    {
     "data": {
      "image/png": "[encoded data removed]",
      "text/plain": [
       "<matplotlib.figure.Figure at 0x7f62f58cb5c0>"
      ]
     },
     "metadata": {},
     "output_type": "display_data"
    },
    {
     "name": "stdout",
     "output_type": "stream",
     "text": [
      "[[  1.00000000e+000   9.00135475e-001   3.87945663e-001 ...,\n",
      "    7.11633408e-010   5.06444022e-092   6.26233880e-289]\n",
      " [  9.00135475e-001   1.00000000e+000   6.56495134e-001 ...,\n",
      "    1.25774148e-008   5.54218989e-088   1.02038186e-281]\n",
      " [  3.87945663e-001   6.56495134e-001   1.00000000e+000 ...,\n",
      "    2.08981943e-006   3.53043788e-080   1.44099453e-267]\n",
      " ..., \n",
      " [  7.11633408e-010   1.25774148e-008   2.08981943e-006 ...,\n",
      "    1.00000000e+000   2.26269832e-043   2.19255894e-195]\n",
      " [  5.06444022e-092   5.54218989e-088   3.53043788e-080 ...,\n",
      "    2.26269832e-043   1.00000000e+000   8.29094444e-056]\n",
      " [  6.26233880e-289   1.02038186e-281   1.44099453e-267 ...,\n",
      "    2.19255894e-195   8.29094444e-056   1.00000000e+000]]\n",
      "[[  1.00000000e+00   9.00135458e-01   3.87945652e-01 ...,   7.11633419e-10\n",
      "    0.00000000e+00   0.00000000e+00]\n",
      " [  9.00135458e-01   1.00000000e+00   6.56495154e-01 ...,   1.25774147e-08\n",
      "    0.00000000e+00   0.00000000e+00]\n",
      " [  3.87945652e-01   6.56495154e-01   1.00000000e+00 ...,   2.08981942e-06\n",
      "    0.00000000e+00   0.00000000e+00]\n",
      " ..., \n",
      " [  7.11633419e-10   1.25774147e-08   2.08981942e-06 ...,   1.00000000e+00\n",
      "    2.25609053e-43   0.00000000e+00]\n",
      " [  0.00000000e+00   0.00000000e+00   0.00000000e+00 ...,   2.25609053e-43\n",
      "    1.00000000e+00   0.00000000e+00]\n",
      " [  0.00000000e+00   0.00000000e+00   0.00000000e+00 ...,   0.00000000e+00\n",
      "    0.00000000e+00   1.00000000e+00]]\n",
      "2 50\n"
     ]
    }
   ],
   "source": [
    "S = np.concatenate((x_K,x_M), axis=0)\n",
    "print(x_K.shape, val.shape)\n",
    "plt.scatter(x_K, rate / (1 + np.exp(-val[:K])))\n",
    "plt.show()\n",
    "print(k.K(S, S))\n",
    "print(C)\n",
    "print(rate, measure)"
   ]
  },
  {
   "cell_type": "code",
   "execution_count": 116,
   "metadata": {},
   "outputs": [
    {
     "name": "stdout",
     "output_type": "stream",
     "text": [
      "43 109\n"
     ]
    }
   ],
   "source": [
    "print(len(x_K), len(x_M))"
   ]
  },
  {
   "cell_type": "code",
   "execution_count": 117,
   "metadata": {},
   "outputs": [
    {
     "name": "stdout",
     "output_type": "stream",
     "text": [
      "152\n",
      "43 109\n"
     ]
    },
    {
     "data": {
      "image/png": "[encoded data removed]",
      "text/plain": [
       "<matplotlib.figure.Figure at 0x7f4a94a4c588>"
      ]
     },
     "metadata": {},
     "output_type": "display_data"
    }
   ],
   "source": [
    "\n",
    "K = len(x_K)\n",
    "M = len(x_M)\n",
    "print(N)\n",
    "print(K,M)\n",
    "plt.scatter(S, G)\n",
    "plt.show()"
   ]
  },
  {
   "cell_type": "code",
   "execution_count": 118,
   "metadata": {},
   "outputs": [],
   "source": [
    "X = tf.constant(C)\n",
    "F = tf.Variable(G, name=\"FunctionVal\", dtype=tf.float32)\n",
    "\n",
    "prior_loss = 0.5*tf.matmul(tf.expand_dims(F, axis=0), tf.matmul(tf.matrix_inverse(X + 1e-6*tf.eye(N)), tf.expand_dims(F, axis=1)))\n",
    "prior_loss = tf.squeeze(prior_loss)"
   ]
  },
  {
   "cell_type": "code",
   "execution_count": 152,
   "metadata": {},
   "outputs": [],
   "source": [
    "#tf.ones(shape=[K])\n",
    "#tf.slice(F, [0], [K])\n",
    "likelihood_loss = tf.reduce_sum(tf.log(tf.ones([K]) + tf.exp(-tf.slice(F, [0], [K]))))\n",
    "likelihood_loss += tf.reduce_sum(tf.log(tf.ones([M]) + tf.exp(tf.slice(F, [K], [M]))))    \n",
    "loss = prior_loss + likelihood_loss\n",
    "train_op = tf.train.AdadeltaOptimizer(0.01, 0.95, 1e-5).minimize(loss)\n",
    "#train_op = tf.train.GradientDescentOptimizer(1e-7).minimize(loss)\n",
    "init_OP = tf.global_variables_initializer()"
   ]
  },
  {
   "cell_type": "code",
   "execution_count": null,
   "metadata": {},
   "outputs": [],
   "source": [
    "with tf.Session() as sess:\n",
    "    sess.run(init_OP)\n",
    "    l = sess.run(loss)\n",
    "    print(l)\n",
    "    for i in range(100):\n",
    "        #print(sess.run(tf.gradients(loss, F)))\n",
    "        sess.run(train_op)\n",
    "        l = sess.run(loss)\n",
    "        print(l)\n",
    "        \n",
    "    val = sess.run(F)\n",
    "    \n",
    "import tqdm"
   ]
  },
  {
   "cell_type": "code",
   "execution_count": 121,
   "metadata": {},
   "outputs": [
    {
     "data": {
      "image/png": "[encoded data removed]",
      "text/plain": [
       "<matplotlib.figure.Figure at 0x7f4a73744128>"
      ]
     },
     "metadata": {},
     "output_type": "display_data"
    }
   ],
   "source": [
    "plt.scatter(S, val)\n",
    "plt.show()"
   ]
  }
 ],
 "metadata": {
  "kernelspec": {
   "display_name": "Python 2",
   "language": "python",
   "name": "python2"
  },
  "language_info": {
   "codemirror_mode": {
    "name": "ipython",
    "version": 2
   },
   "file_extension": ".py",
   "mimetype": "text/x-python",
   "name": "python",
   "nbconvert_exporter": "python",
   "pygments_lexer": "ipython2",
   "version": "2.7.12"
  }
 },
 "nbformat": 4,
 "nbformat_minor": 2
}
